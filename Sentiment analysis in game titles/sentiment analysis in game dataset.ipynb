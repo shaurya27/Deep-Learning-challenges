{
 "cells": [
  {
   "cell_type": "markdown",
   "metadata": {},
   "source": [
    "# Sentimental Analysis in game titles"
   ]
  },
  {
   "cell_type": "code",
   "execution_count": 1,
   "metadata": {
    "collapsed": true
   },
   "outputs": [],
   "source": [
    "import pandas as pd\n",
    "import numpy as np\n",
    "%matplotlib inline\n",
    "import matplotlib.pyplot as plt"
   ]
  },
  {
   "cell_type": "code",
   "execution_count": 2,
   "metadata": {
    "collapsed": false
   },
   "outputs": [
    {
     "data": {
      "text/html": [
       "<div>\n",
       "<table border=\"1\" class=\"dataframe\">\n",
       "  <thead>\n",
       "    <tr style=\"text-align: right;\">\n",
       "      <th></th>\n",
       "      <th>Unnamed: 0</th>\n",
       "      <th>score_phrase</th>\n",
       "      <th>title</th>\n",
       "      <th>url</th>\n",
       "      <th>platform</th>\n",
       "      <th>score</th>\n",
       "      <th>genre</th>\n",
       "      <th>editors_choice</th>\n",
       "      <th>release_year</th>\n",
       "      <th>release_month</th>\n",
       "      <th>release_day</th>\n",
       "    </tr>\n",
       "  </thead>\n",
       "  <tbody>\n",
       "    <tr>\n",
       "      <th>0</th>\n",
       "      <td>0</td>\n",
       "      <td>Amazing</td>\n",
       "      <td>LittleBigPlanet PS Vita</td>\n",
       "      <td>/games/littlebigplanet-vita/vita-98907</td>\n",
       "      <td>PlayStation Vita</td>\n",
       "      <td>9.0</td>\n",
       "      <td>Platformer</td>\n",
       "      <td>Y</td>\n",
       "      <td>2012</td>\n",
       "      <td>9</td>\n",
       "      <td>12</td>\n",
       "    </tr>\n",
       "    <tr>\n",
       "      <th>1</th>\n",
       "      <td>1</td>\n",
       "      <td>Amazing</td>\n",
       "      <td>LittleBigPlanet PS Vita -- Marvel Super Hero E...</td>\n",
       "      <td>/games/littlebigplanet-ps-vita-marvel-super-he...</td>\n",
       "      <td>PlayStation Vita</td>\n",
       "      <td>9.0</td>\n",
       "      <td>Platformer</td>\n",
       "      <td>Y</td>\n",
       "      <td>2012</td>\n",
       "      <td>9</td>\n",
       "      <td>12</td>\n",
       "    </tr>\n",
       "    <tr>\n",
       "      <th>2</th>\n",
       "      <td>2</td>\n",
       "      <td>Great</td>\n",
       "      <td>Splice: Tree of Life</td>\n",
       "      <td>/games/splice/ipad-141070</td>\n",
       "      <td>iPad</td>\n",
       "      <td>8.5</td>\n",
       "      <td>Puzzle</td>\n",
       "      <td>N</td>\n",
       "      <td>2012</td>\n",
       "      <td>9</td>\n",
       "      <td>12</td>\n",
       "    </tr>\n",
       "    <tr>\n",
       "      <th>3</th>\n",
       "      <td>3</td>\n",
       "      <td>Great</td>\n",
       "      <td>NHL 13</td>\n",
       "      <td>/games/nhl-13/xbox-360-128182</td>\n",
       "      <td>Xbox 360</td>\n",
       "      <td>8.5</td>\n",
       "      <td>Sports</td>\n",
       "      <td>N</td>\n",
       "      <td>2012</td>\n",
       "      <td>9</td>\n",
       "      <td>11</td>\n",
       "    </tr>\n",
       "    <tr>\n",
       "      <th>4</th>\n",
       "      <td>4</td>\n",
       "      <td>Great</td>\n",
       "      <td>NHL 13</td>\n",
       "      <td>/games/nhl-13/ps3-128181</td>\n",
       "      <td>PlayStation 3</td>\n",
       "      <td>8.5</td>\n",
       "      <td>Sports</td>\n",
       "      <td>N</td>\n",
       "      <td>2012</td>\n",
       "      <td>9</td>\n",
       "      <td>11</td>\n",
       "    </tr>\n",
       "  </tbody>\n",
       "</table>\n",
       "</div>"
      ],
      "text/plain": [
       "   Unnamed: 0 score_phrase                                              title  \\\n",
       "0           0      Amazing                            LittleBigPlanet PS Vita   \n",
       "1           1      Amazing  LittleBigPlanet PS Vita -- Marvel Super Hero E...   \n",
       "2           2        Great                               Splice: Tree of Life   \n",
       "3           3        Great                                             NHL 13   \n",
       "4           4        Great                                             NHL 13   \n",
       "\n",
       "                                                 url          platform  score  \\\n",
       "0             /games/littlebigplanet-vita/vita-98907  PlayStation Vita    9.0   \n",
       "1  /games/littlebigplanet-ps-vita-marvel-super-he...  PlayStation Vita    9.0   \n",
       "2                          /games/splice/ipad-141070              iPad    8.5   \n",
       "3                      /games/nhl-13/xbox-360-128182          Xbox 360    8.5   \n",
       "4                           /games/nhl-13/ps3-128181     PlayStation 3    8.5   \n",
       "\n",
       "        genre editors_choice  release_year  release_month  release_day  \n",
       "0  Platformer              Y          2012              9           12  \n",
       "1  Platformer              Y          2012              9           12  \n",
       "2      Puzzle              N          2012              9           12  \n",
       "3      Sports              N          2012              9           11  \n",
       "4      Sports              N          2012              9           11  "
      ]
     },
     "execution_count": 2,
     "metadata": {},
     "output_type": "execute_result"
    }
   ],
   "source": [
    "data=pd.read_csv('ign.csv')\n",
    "data.head()"
   ]
  },
  {
   "cell_type": "code",
   "execution_count": 3,
   "metadata": {
    "collapsed": false
   },
   "outputs": [
    {
     "data": {
      "text/plain": [
       "(18625, 11)"
      ]
     },
     "execution_count": 3,
     "metadata": {},
     "output_type": "execute_result"
    }
   ],
   "source": [
    "data.shape"
   ]
  },
  {
   "cell_type": "code",
   "execution_count": 4,
   "metadata": {
    "collapsed": false
   },
   "outputs": [
    {
     "data": {
      "text/plain": [
       "Great          4773\n",
       "Good           4741\n",
       "Okay           2945\n",
       "Mediocre       1959\n",
       "Amazing        1804\n",
       "Bad            1269\n",
       "Awful           664\n",
       "Painful         340\n",
       "Unbearable       72\n",
       "Masterpiece      55\n",
       "Disaster          3\n",
       "Name: score_phrase, dtype: int64"
      ]
     },
     "execution_count": 4,
     "metadata": {},
     "output_type": "execute_result"
    }
   ],
   "source": [
    "data.score_phrase.value_counts()"
   ]
  },
  {
   "cell_type": "code",
   "execution_count": 5,
   "metadata": {
    "collapsed": false
   },
   "outputs": [
    {
     "data": {
      "text/plain": [
       "11"
      ]
     },
     "execution_count": 5,
     "metadata": {},
     "output_type": "execute_result"
    }
   ],
   "source": [
    "len(list(data.score_phrase.value_counts()))"
   ]
  },
  {
   "cell_type": "code",
   "execution_count": 6,
   "metadata": {
    "collapsed": false
   },
   "outputs": [
    {
     "data": {
      "text/plain": [
       "['Great',\n",
       " 'Good',\n",
       " 'Okay',\n",
       " 'Mediocre',\n",
       " 'Amazing',\n",
       " 'Bad',\n",
       " 'Awful',\n",
       " 'Painful',\n",
       " 'Unbearable',\n",
       " 'Masterpiece',\n",
       " 'Disaster']"
      ]
     },
     "execution_count": 6,
     "metadata": {},
     "output_type": "execute_result"
    }
   ],
   "source": [
    "list(data.score_phrase.value_counts().index)"
   ]
  },
  {
   "cell_type": "markdown",
   "metadata": {},
   "source": [
    "#### convert score_phrase to binary sentiment and add a new column called sentiment"
   ]
  },
  {
   "cell_type": "code",
   "execution_count": 7,
   "metadata": {
    "collapsed": true
   },
   "outputs": [],
   "source": [
    "bad_phrase=['Bad','Awful','Unbearable','Disaster','Painful']\n",
    "data['sentiment']=data['score_phrase'].isin(bad_phrase).map({True:'Negative',False:\"Positive\"})"
   ]
  },
  {
   "cell_type": "code",
   "execution_count": 8,
   "metadata": {
    "collapsed": true
   },
   "outputs": [],
   "source": [
    "# Remove \"Disaster\"\n",
    "data = data[data['score_phrase'] != 'Disaster']"
   ]
  },
  {
   "cell_type": "markdown",
   "metadata": {},
   "source": [
    "##### No. of positive and negative sentiment"
   ]
  },
  {
   "cell_type": "code",
   "execution_count": 9,
   "metadata": {
    "collapsed": false
   },
   "outputs": [
    {
     "data": {
      "text/plain": [
       "Positive    16277\n",
       "Negative     2345\n",
       "Name: sentiment, dtype: int64"
      ]
     },
     "execution_count": 9,
     "metadata": {},
     "output_type": "execute_result"
    }
   ],
   "source": [
    "data.sentiment.value_counts()"
   ]
  },
  {
   "cell_type": "code",
   "execution_count": 10,
   "metadata": {
    "collapsed": false
   },
   "outputs": [
    {
     "data": {
      "text/plain": [
       "Positive    0.874074\n",
       "Negative    0.125926\n",
       "Name: sentiment, dtype: float64"
      ]
     },
     "execution_count": 10,
     "metadata": {},
     "output_type": "execute_result"
    }
   ],
   "source": [
    "data.sentiment.value_counts(normalize=True)"
   ]
  },
  {
   "cell_type": "markdown",
   "metadata": {},
   "source": [
    "##### check for null values"
   ]
  },
  {
   "cell_type": "code",
   "execution_count": 11,
   "metadata": {
    "collapsed": false
   },
   "outputs": [
    {
     "data": {
      "text/plain": [
       "Unnamed: 0         0\n",
       "score_phrase       0\n",
       "title              0\n",
       "url                0\n",
       "platform           0\n",
       "score              0\n",
       "genre             36\n",
       "editors_choice     0\n",
       "release_year       0\n",
       "release_month      0\n",
       "release_day        0\n",
       "sentiment          0\n",
       "dtype: int64"
      ]
     },
     "execution_count": 11,
     "metadata": {},
     "output_type": "execute_result"
    }
   ],
   "source": [
    "data.isnull().sum()"
   ]
  },
  {
   "cell_type": "markdown",
   "metadata": {},
   "source": [
    "#### Fill out null values with empty string"
   ]
  },
  {
   "cell_type": "code",
   "execution_count": 12,
   "metadata": {
    "collapsed": true
   },
   "outputs": [],
   "source": [
    "data.fillna(value='', inplace=True)"
   ]
  },
  {
   "cell_type": "code",
   "execution_count": 13,
   "metadata": {
    "collapsed": false
   },
   "outputs": [
    {
     "data": {
      "text/html": [
       "<div>\n",
       "<table border=\"1\" class=\"dataframe\">\n",
       "  <thead>\n",
       "    <tr style=\"text-align: right;\">\n",
       "      <th></th>\n",
       "      <th>sentiment</th>\n",
       "      <th>score_phrase</th>\n",
       "      <th>title</th>\n",
       "      <th>platform</th>\n",
       "      <th>genre</th>\n",
       "      <th>editors_choice</th>\n",
       "    </tr>\n",
       "  </thead>\n",
       "  <tbody>\n",
       "    <tr>\n",
       "      <th>0</th>\n",
       "      <td>Positive</td>\n",
       "      <td>Amazing</td>\n",
       "      <td>LittleBigPlanet PS Vita</td>\n",
       "      <td>PlayStation Vita</td>\n",
       "      <td>Platformer</td>\n",
       "      <td>Y</td>\n",
       "    </tr>\n",
       "    <tr>\n",
       "      <th>1</th>\n",
       "      <td>Positive</td>\n",
       "      <td>Amazing</td>\n",
       "      <td>LittleBigPlanet PS Vita -- Marvel Super Hero E...</td>\n",
       "      <td>PlayStation Vita</td>\n",
       "      <td>Platformer</td>\n",
       "      <td>Y</td>\n",
       "    </tr>\n",
       "    <tr>\n",
       "      <th>2</th>\n",
       "      <td>Positive</td>\n",
       "      <td>Great</td>\n",
       "      <td>Splice: Tree of Life</td>\n",
       "      <td>iPad</td>\n",
       "      <td>Puzzle</td>\n",
       "      <td>N</td>\n",
       "    </tr>\n",
       "    <tr>\n",
       "      <th>3</th>\n",
       "      <td>Positive</td>\n",
       "      <td>Great</td>\n",
       "      <td>NHL 13</td>\n",
       "      <td>Xbox 360</td>\n",
       "      <td>Sports</td>\n",
       "      <td>N</td>\n",
       "    </tr>\n",
       "    <tr>\n",
       "      <th>4</th>\n",
       "      <td>Positive</td>\n",
       "      <td>Great</td>\n",
       "      <td>NHL 13</td>\n",
       "      <td>PlayStation 3</td>\n",
       "      <td>Sports</td>\n",
       "      <td>N</td>\n",
       "    </tr>\n",
       "    <tr>\n",
       "      <th>5</th>\n",
       "      <td>Positive</td>\n",
       "      <td>Good</td>\n",
       "      <td>Total War Battles: Shogun</td>\n",
       "      <td>Macintosh</td>\n",
       "      <td>Strategy</td>\n",
       "      <td>N</td>\n",
       "    </tr>\n",
       "    <tr>\n",
       "      <th>6</th>\n",
       "      <td>Negative</td>\n",
       "      <td>Awful</td>\n",
       "      <td>Double Dragon: Neon</td>\n",
       "      <td>Xbox 360</td>\n",
       "      <td>Fighting</td>\n",
       "      <td>N</td>\n",
       "    </tr>\n",
       "    <tr>\n",
       "      <th>7</th>\n",
       "      <td>Positive</td>\n",
       "      <td>Amazing</td>\n",
       "      <td>Guild Wars 2</td>\n",
       "      <td>PC</td>\n",
       "      <td>RPG</td>\n",
       "      <td>Y</td>\n",
       "    </tr>\n",
       "    <tr>\n",
       "      <th>8</th>\n",
       "      <td>Negative</td>\n",
       "      <td>Awful</td>\n",
       "      <td>Double Dragon: Neon</td>\n",
       "      <td>PlayStation 3</td>\n",
       "      <td>Fighting</td>\n",
       "      <td>N</td>\n",
       "    </tr>\n",
       "    <tr>\n",
       "      <th>9</th>\n",
       "      <td>Positive</td>\n",
       "      <td>Good</td>\n",
       "      <td>Total War Battles: Shogun</td>\n",
       "      <td>PC</td>\n",
       "      <td>Strategy</td>\n",
       "      <td>N</td>\n",
       "    </tr>\n",
       "  </tbody>\n",
       "</table>\n",
       "</div>"
      ],
      "text/plain": [
       "  sentiment score_phrase                                              title  \\\n",
       "0  Positive      Amazing                            LittleBigPlanet PS Vita   \n",
       "1  Positive      Amazing  LittleBigPlanet PS Vita -- Marvel Super Hero E...   \n",
       "2  Positive        Great                               Splice: Tree of Life   \n",
       "3  Positive        Great                                             NHL 13   \n",
       "4  Positive        Great                                             NHL 13   \n",
       "5  Positive         Good                          Total War Battles: Shogun   \n",
       "6  Negative        Awful                                Double Dragon: Neon   \n",
       "7  Positive      Amazing                                       Guild Wars 2   \n",
       "8  Negative        Awful                                Double Dragon: Neon   \n",
       "9  Positive         Good                          Total War Battles: Shogun   \n",
       "\n",
       "           platform       genre editors_choice  \n",
       "0  PlayStation Vita  Platformer              Y  \n",
       "1  PlayStation Vita  Platformer              Y  \n",
       "2              iPad      Puzzle              N  \n",
       "3          Xbox 360      Sports              N  \n",
       "4     PlayStation 3      Sports              N  \n",
       "5         Macintosh    Strategy              N  \n",
       "6          Xbox 360    Fighting              N  \n",
       "7                PC         RPG              Y  \n",
       "8     PlayStation 3    Fighting              N  \n",
       "9                PC    Strategy              N  "
      ]
     },
     "execution_count": 13,
     "metadata": {},
     "output_type": "execute_result"
    }
   ],
   "source": [
    "data_copy = data[ ['sentiment', 'score_phrase', 'title', 'platform', 'genre', 'editors_choice'] ].copy()\n",
    "data_copy.head(10)"
   ]
  },
  {
   "cell_type": "markdown",
   "metadata": {},
   "source": [
    "#### create a new column called is_editors_choice"
   ]
  },
  {
   "cell_type": "code",
   "execution_count": 14,
   "metadata": {
    "collapsed": false
   },
   "outputs": [
    {
     "data": {
      "text/html": [
       "<div>\n",
       "<table border=\"1\" class=\"dataframe\">\n",
       "  <thead>\n",
       "    <tr style=\"text-align: right;\">\n",
       "      <th></th>\n",
       "      <th>sentiment</th>\n",
       "      <th>score_phrase</th>\n",
       "      <th>title</th>\n",
       "      <th>platform</th>\n",
       "      <th>genre</th>\n",
       "      <th>editors_choice</th>\n",
       "      <th>is_editors_choice</th>\n",
       "    </tr>\n",
       "  </thead>\n",
       "  <tbody>\n",
       "    <tr>\n",
       "      <th>0</th>\n",
       "      <td>Positive</td>\n",
       "      <td>Amazing</td>\n",
       "      <td>LittleBigPlanet PS Vita</td>\n",
       "      <td>PlayStation Vita</td>\n",
       "      <td>Platformer</td>\n",
       "      <td>Y</td>\n",
       "      <td>editors_choice</td>\n",
       "    </tr>\n",
       "    <tr>\n",
       "      <th>1</th>\n",
       "      <td>Positive</td>\n",
       "      <td>Amazing</td>\n",
       "      <td>LittleBigPlanet PS Vita -- Marvel Super Hero E...</td>\n",
       "      <td>PlayStation Vita</td>\n",
       "      <td>Platformer</td>\n",
       "      <td>Y</td>\n",
       "      <td>editors_choice</td>\n",
       "    </tr>\n",
       "    <tr>\n",
       "      <th>2</th>\n",
       "      <td>Positive</td>\n",
       "      <td>Great</td>\n",
       "      <td>Splice: Tree of Life</td>\n",
       "      <td>iPad</td>\n",
       "      <td>Puzzle</td>\n",
       "      <td>N</td>\n",
       "      <td></td>\n",
       "    </tr>\n",
       "    <tr>\n",
       "      <th>3</th>\n",
       "      <td>Positive</td>\n",
       "      <td>Great</td>\n",
       "      <td>NHL 13</td>\n",
       "      <td>Xbox 360</td>\n",
       "      <td>Sports</td>\n",
       "      <td>N</td>\n",
       "      <td></td>\n",
       "    </tr>\n",
       "    <tr>\n",
       "      <th>4</th>\n",
       "      <td>Positive</td>\n",
       "      <td>Great</td>\n",
       "      <td>NHL 13</td>\n",
       "      <td>PlayStation 3</td>\n",
       "      <td>Sports</td>\n",
       "      <td>N</td>\n",
       "      <td></td>\n",
       "    </tr>\n",
       "  </tbody>\n",
       "</table>\n",
       "</div>"
      ],
      "text/plain": [
       "  sentiment score_phrase                                              title  \\\n",
       "0  Positive      Amazing                            LittleBigPlanet PS Vita   \n",
       "1  Positive      Amazing  LittleBigPlanet PS Vita -- Marvel Super Hero E...   \n",
       "2  Positive        Great                               Splice: Tree of Life   \n",
       "3  Positive        Great                                             NHL 13   \n",
       "4  Positive        Great                                             NHL 13   \n",
       "\n",
       "           platform       genre editors_choice is_editors_choice  \n",
       "0  PlayStation Vita  Platformer              Y    editors_choice  \n",
       "1  PlayStation Vita  Platformer              Y    editors_choice  \n",
       "2              iPad      Puzzle              N                    \n",
       "3          Xbox 360      Sports              N                    \n",
       "4     PlayStation 3      Sports              N                    "
      ]
     },
     "execution_count": 14,
     "metadata": {},
     "output_type": "execute_result"
    }
   ],
   "source": [
    "data_copy['is_editors_choice']=data_copy['editors_choice'].map({'Y': 'editors_choice', 'N':''})\n",
    "data_copy.head()"
   ]
  },
  {
   "cell_type": "markdown",
   "metadata": {},
   "source": [
    "#### create a new column called test contains contents of several columns"
   ]
  },
  {
   "cell_type": "code",
   "execution_count": 15,
   "metadata": {
    "collapsed": true
   },
   "outputs": [],
   "source": [
    "data_copy['text'] = data_copy['title'] + ' ' + data_copy['platform'] + ' ' + data_copy['genre'] + ' ' + data_copy['is_editors_choice']"
   ]
  },
  {
   "cell_type": "code",
   "execution_count": 16,
   "metadata": {
    "collapsed": false
   },
   "outputs": [
    {
     "data": {
      "text/html": [
       "<div>\n",
       "<table border=\"1\" class=\"dataframe\">\n",
       "  <thead>\n",
       "    <tr style=\"text-align: right;\">\n",
       "      <th></th>\n",
       "      <th>sentiment</th>\n",
       "      <th>score_phrase</th>\n",
       "      <th>title</th>\n",
       "      <th>platform</th>\n",
       "      <th>genre</th>\n",
       "      <th>editors_choice</th>\n",
       "      <th>is_editors_choice</th>\n",
       "      <th>text</th>\n",
       "    </tr>\n",
       "  </thead>\n",
       "  <tbody>\n",
       "    <tr>\n",
       "      <th>0</th>\n",
       "      <td>Positive</td>\n",
       "      <td>Amazing</td>\n",
       "      <td>LittleBigPlanet PS Vita</td>\n",
       "      <td>PlayStation Vita</td>\n",
       "      <td>Platformer</td>\n",
       "      <td>Y</td>\n",
       "      <td>editors_choice</td>\n",
       "      <td>LittleBigPlanet PS Vita PlayStation Vita Platf...</td>\n",
       "    </tr>\n",
       "    <tr>\n",
       "      <th>1</th>\n",
       "      <td>Positive</td>\n",
       "      <td>Amazing</td>\n",
       "      <td>LittleBigPlanet PS Vita -- Marvel Super Hero E...</td>\n",
       "      <td>PlayStation Vita</td>\n",
       "      <td>Platformer</td>\n",
       "      <td>Y</td>\n",
       "      <td>editors_choice</td>\n",
       "      <td>LittleBigPlanet PS Vita -- Marvel Super Hero E...</td>\n",
       "    </tr>\n",
       "    <tr>\n",
       "      <th>2</th>\n",
       "      <td>Positive</td>\n",
       "      <td>Great</td>\n",
       "      <td>Splice: Tree of Life</td>\n",
       "      <td>iPad</td>\n",
       "      <td>Puzzle</td>\n",
       "      <td>N</td>\n",
       "      <td></td>\n",
       "      <td>Splice: Tree of Life iPad Puzzle</td>\n",
       "    </tr>\n",
       "    <tr>\n",
       "      <th>3</th>\n",
       "      <td>Positive</td>\n",
       "      <td>Great</td>\n",
       "      <td>NHL 13</td>\n",
       "      <td>Xbox 360</td>\n",
       "      <td>Sports</td>\n",
       "      <td>N</td>\n",
       "      <td></td>\n",
       "      <td>NHL 13 Xbox 360 Sports</td>\n",
       "    </tr>\n",
       "    <tr>\n",
       "      <th>4</th>\n",
       "      <td>Positive</td>\n",
       "      <td>Great</td>\n",
       "      <td>NHL 13</td>\n",
       "      <td>PlayStation 3</td>\n",
       "      <td>Sports</td>\n",
       "      <td>N</td>\n",
       "      <td></td>\n",
       "      <td>NHL 13 PlayStation 3 Sports</td>\n",
       "    </tr>\n",
       "  </tbody>\n",
       "</table>\n",
       "</div>"
      ],
      "text/plain": [
       "  sentiment score_phrase                                              title  \\\n",
       "0  Positive      Amazing                            LittleBigPlanet PS Vita   \n",
       "1  Positive      Amazing  LittleBigPlanet PS Vita -- Marvel Super Hero E...   \n",
       "2  Positive        Great                               Splice: Tree of Life   \n",
       "3  Positive        Great                                             NHL 13   \n",
       "4  Positive        Great                                             NHL 13   \n",
       "\n",
       "           platform       genre editors_choice is_editors_choice  \\\n",
       "0  PlayStation Vita  Platformer              Y    editors_choice   \n",
       "1  PlayStation Vita  Platformer              Y    editors_choice   \n",
       "2              iPad      Puzzle              N                     \n",
       "3          Xbox 360      Sports              N                     \n",
       "4     PlayStation 3      Sports              N                     \n",
       "\n",
       "                                                text  \n",
       "0  LittleBigPlanet PS Vita PlayStation Vita Platf...  \n",
       "1  LittleBigPlanet PS Vita -- Marvel Super Hero E...  \n",
       "2                  Splice: Tree of Life iPad Puzzle   \n",
       "3                            NHL 13 Xbox 360 Sports   \n",
       "4                       NHL 13 PlayStation 3 Sports   "
      ]
     },
     "execution_count": 16,
     "metadata": {},
     "output_type": "execute_result"
    }
   ],
   "source": [
    "data_copy.head()"
   ]
  },
  {
   "cell_type": "code",
   "execution_count": 17,
   "metadata": {
    "collapsed": false
   },
   "outputs": [
    {
     "data": {
      "text/plain": [
       "(18622, 8)"
      ]
     },
     "execution_count": 17,
     "metadata": {},
     "output_type": "execute_result"
    }
   ],
   "source": [
    "data_copy.shape"
   ]
  },
  {
   "cell_type": "markdown",
   "metadata": {},
   "source": [
    "##### Removing punctuation from text"
   ]
  },
  {
   "cell_type": "code",
   "execution_count": 19,
   "metadata": {
    "collapsed": true
   },
   "outputs": [],
   "source": [
    "import string"
   ]
  },
  {
   "cell_type": "code",
   "execution_count": 22,
   "metadata": {
    "collapsed": false
   },
   "outputs": [],
   "source": [
    "data_copy['text']=data_copy['text'].apply( lambda x : ' '.join(word.strip(string.punctuation) for word in x.split()))"
   ]
  },
  {
   "cell_type": "code",
   "execution_count": 23,
   "metadata": {
    "collapsed": false
   },
   "outputs": [
    {
     "data": {
      "text/plain": [
       "0    LittleBigPlanet PS Vita PlayStation Vita Platf...\n",
       "1    LittleBigPlanet PS Vita  Marvel Super Hero Edi...\n",
       "2                      Splice Tree of Life iPad Puzzle\n",
       "3                               NHL 13 Xbox 360 Sports\n",
       "4                          NHL 13 PlayStation 3 Sports\n",
       "Name: text, dtype: object"
      ]
     },
     "execution_count": 23,
     "metadata": {},
     "output_type": "execute_result"
    }
   ],
   "source": [
    "data_copy['text'].head()"
   ]
  },
  {
   "cell_type": "code",
   "execution_count": 24,
   "metadata": {
    "collapsed": true
   },
   "outputs": [],
   "source": [
    "X = data_copy.text\n",
    "y = data_copy.score_phrase"
   ]
  },
  {
   "cell_type": "code",
   "execution_count": 25,
   "metadata": {
    "collapsed": false
   },
   "outputs": [
    {
     "data": {
      "text/plain": [
       "0    LittleBigPlanet PS Vita PlayStation Vita Platf...\n",
       "1    LittleBigPlanet PS Vita  Marvel Super Hero Edi...\n",
       "2                      Splice Tree of Life iPad Puzzle\n",
       "3                               NHL 13 Xbox 360 Sports\n",
       "4                          NHL 13 PlayStation 3 Sports\n",
       "Name: text, dtype: object"
      ]
     },
     "execution_count": 25,
     "metadata": {},
     "output_type": "execute_result"
    }
   ],
   "source": [
    "X.head()"
   ]
  },
  {
   "cell_type": "code",
   "execution_count": 26,
   "metadata": {
    "collapsed": false
   },
   "outputs": [
    {
     "data": {
      "text/plain": [
       "0    Amazing\n",
       "1    Amazing\n",
       "2      Great\n",
       "3      Great\n",
       "4      Great\n",
       "5       Good\n",
       "6      Awful\n",
       "7    Amazing\n",
       "8      Awful\n",
       "9       Good\n",
       "Name: score_phrase, dtype: object"
      ]
     },
     "execution_count": 26,
     "metadata": {},
     "output_type": "execute_result"
    }
   ],
   "source": [
    "y.head(10)"
   ]
  },
  {
   "cell_type": "markdown",
   "metadata": {},
   "source": [
    "---------"
   ]
  },
  {
   "cell_type": "code",
   "execution_count": 27,
   "metadata": {
    "collapsed": true
   },
   "outputs": [],
   "source": [
    "from sklearn.feature_extraction.text import TfidfVectorizer\n",
    "from sklearn.pipeline import make_pipeline\n",
    "from sklearn.model_selection import cross_val_score"
   ]
  },
  {
   "cell_type": "markdown",
   "metadata": {},
   "source": [
    "## Multinomial Classifier"
   ]
  },
  {
   "cell_type": "code",
   "execution_count": 28,
   "metadata": {
    "collapsed": true
   },
   "outputs": [],
   "source": [
    "from sklearn.naive_bayes import MultinomialNB"
   ]
  },
  {
   "cell_type": "code",
   "execution_count": 29,
   "metadata": {
    "collapsed": true
   },
   "outputs": [],
   "source": [
    "vect = TfidfVectorizer(stop_words='english', \n",
    "                       token_pattern=r'\\b\\w{2,}\\b',\n",
    "                       min_df=1, max_df=0.1,\n",
    "                       ngram_range=(1,2))\n",
    "mnb = MultinomialNB(alpha=2)\n",
    "\n",
    "mnb_pipeline = make_pipeline(vect, mnb)"
   ]
  },
  {
   "cell_type": "code",
   "execution_count": 30,
   "metadata": {
    "collapsed": false
   },
   "outputs": [
    {
     "name": "stdout",
     "output_type": "stream",
     "text": [
      "\n",
      "MultinomialNB Classifier's Accuracy: 0.32355\n",
      "\n"
     ]
    }
   ],
   "source": [
    "# Cross Validation\n",
    "cv = cross_val_score(mnb_pipeline, X, y, scoring='accuracy', cv=10, n_jobs=-1)\n",
    "print('\\nMultinomialNB Classifier\\'s Accuracy: %0.5f\\n' % cv.mean())"
   ]
  },
  {
   "cell_type": "markdown",
   "metadata": {},
   "source": [
    "--------------------"
   ]
  },
  {
   "cell_type": "code",
   "execution_count": 31,
   "metadata": {
    "collapsed": true
   },
   "outputs": [],
   "source": [
    "import tflearn\n",
    "from tflearn.data_utils import to_categorical, pad_sequences"
   ]
  },
  {
   "cell_type": "code",
   "execution_count": 32,
   "metadata": {
    "collapsed": true
   },
   "outputs": [],
   "source": [
    "from sklearn.model_selection import train_test_split\n",
    "X_train, X_test, y_train, y_test = train_test_split(X, y, test_size=0.1, random_state=42)"
   ]
  },
  {
   "cell_type": "markdown",
   "metadata": {},
   "source": [
    "------------"
   ]
  },
  {
   "cell_type": "code",
   "execution_count": 33,
   "metadata": {
    "collapsed": false
   },
   "outputs": [
    {
     "name": "stdout",
     "output_type": "stream",
     "text": [
      "['bird', 'cat', 'dog', 'fish']\n",
      "[[0 1 1 1]\n",
      " [0 2 1 0]\n",
      " [1 0 0 1]\n",
      " [1 0 0 0]]\n"
     ]
    }
   ],
   "source": [
    "from sklearn.feature_extraction.text import CountVectorizer\n",
    "\n",
    "texts=[\"dog cat fish\",\"dog cat cat\",\"fish bird\", 'bird']\n",
    "cv = CountVectorizer()\n",
    "cv_fit=cv.fit_transform(texts)\n",
    "\n",
    "print(cv.get_feature_names())\n",
    "print(cv_fit.toarray())"
   ]
  },
  {
   "cell_type": "code",
   "execution_count": 34,
   "metadata": {
    "collapsed": false
   },
   "outputs": [
    {
     "data": {
      "text/plain": [
       "{'bird': 0, 'cat': 1, 'dog': 2, 'fish': 3}"
      ]
     },
     "execution_count": 34,
     "metadata": {},
     "output_type": "execute_result"
    }
   ],
   "source": [
    "cv.vocabulary_"
   ]
  },
  {
   "cell_type": "markdown",
   "metadata": {},
   "source": [
    "----------"
   ]
  },
  {
   "cell_type": "markdown",
   "metadata": {},
   "source": [
    "## Create the Vocab"
   ]
  },
  {
   "cell_type": "code",
   "execution_count": 35,
   "metadata": {
    "collapsed": true
   },
   "outputs": [],
   "source": [
    "from sklearn.feature_extraction.text import CountVectorizer\n",
    "vect = CountVectorizer(ngram_range=(1,1), token_pattern=r'\\b\\w{1,}\\b')"
   ]
  },
  {
   "cell_type": "code",
   "execution_count": 36,
   "metadata": {
    "collapsed": true
   },
   "outputs": [],
   "source": [
    "vect.fit(X_train)\n",
    "vocab = vect.vocabulary_"
   ]
  },
  {
   "cell_type": "code",
   "execution_count": 37,
   "metadata": {
    "collapsed": false
   },
   "outputs": [
    {
     "data": {
      "text/plain": [
       "{'authority': 610,\n",
       " 'matters': 4160,\n",
       " 'crasher': 1644,\n",
       " 'bode': 955,\n",
       " 'spectral': 6208,\n",
       " 'velious': 7137,\n",
       " 'tortuga': 6815,\n",
       " 'wedding': 7304,\n",
       " '2014': 93,\n",
       " 'shibuya': 5911,\n",
       " 'degrees': 1878,\n",
       " 'flat': 2612,\n",
       " 'injection': 3443,\n",
       " 'mytran': 4493,\n",
       " 'biggest': 842,\n",
       " 'frame': 2690,\n",
       " 'nes': 4566,\n",
       " 'choroq': 1390,\n",
       " 'castrol': 1268,\n",
       " 'heritage': 3204,\n",
       " 'allstar': 373,\n",
       " 'am': 391,\n",
       " 'sith': 6019,\n",
       " 'flicky': 2619,\n",
       " 'war': 7244,\n",
       " 'gyruss': 3077,\n",
       " 'g1': 2775,\n",
       " 'blowout': 934,\n",
       " 'nation': 4527,\n",
       " 'hostile': 3301,\n",
       " 'konami': 3777,\n",
       " 'derek': 1901,\n",
       " 'jackie': 3540,\n",
       " 'game': 2799,\n",
       " 'trial': 6903,\n",
       " 'booga': 985,\n",
       " 'tatsunoko': 6601,\n",
       " 'mindhabits': 4288,\n",
       " 'titanic': 6758,\n",
       " 'campaigns': 1204,\n",
       " 'tzar': 7004,\n",
       " 'volt': 7209,\n",
       " 'bless': 906,\n",
       " 'timeless': 6742,\n",
       " 'shooting': 5937,\n",
       " 'hoodlum': 3277,\n",
       " 'squadrons': 6281,\n",
       " 'fire': 2571,\n",
       " 'amf': 402,\n",
       " 'skateboarding': 6029,\n",
       " 'monopoly': 4373,\n",
       " 'britain': 1080,\n",
       " 'hegemonia': 3181,\n",
       " 'astro': 574,\n",
       " 'debut': 1851,\n",
       " 'fables': 2449,\n",
       " 'gat': 2825,\n",
       " 'napoleon': 4515,\n",
       " 'gtr': 3032,\n",
       " 'xillia': 7477,\n",
       " 'rf': 5515,\n",
       " 'oddysee': 4712,\n",
       " 'alexi': 354,\n",
       " 'booster': 996,\n",
       " 'champions': 1319,\n",
       " 'row': 5650,\n",
       " 'tomorrow': 6786,\n",
       " 'takedown': 6569,\n",
       " 'ransom': 5354,\n",
       " 'trade': 6853,\n",
       " 'deathinitive': 1843,\n",
       " '2142': 112,\n",
       " 'dragons': 2096,\n",
       " 'jailbreak': 3546,\n",
       " 'falsebound': 2477,\n",
       " 'tonka': 6789,\n",
       " 'dancing': 1785,\n",
       " 'shatter': 5899,\n",
       " 'decathlon': 1855,\n",
       " 'morrowind': 4393,\n",
       " 'swingerz': 6526,\n",
       " 'overkill': 4834,\n",
       " 'dota': 2071,\n",
       " 'gurumin': 3067,\n",
       " 'loki': 3965,\n",
       " 'trap': 6876,\n",
       " 'megamix': 4207,\n",
       " 'spacestationsim': 6187,\n",
       " 'hobbie': 3246,\n",
       " 'cocktail': 1477,\n",
       " 'equinox': 2333,\n",
       " 'sempai': 5829,\n",
       " 'sudden': 6444,\n",
       " 'sands': 5729,\n",
       " 'college': 1499,\n",
       " 'nirvana': 4626,\n",
       " 'unite': 7063,\n",
       " 'spandex': 6191,\n",
       " 'wonder': 7401,\n",
       " 'cycling': 1751,\n",
       " 'genesis': 2851,\n",
       " 'battlegrounds': 745,\n",
       " 'trespasser': 6899,\n",
       " 'plant': 5056,\n",
       " 'ehrgeiz': 2243,\n",
       " 'city': 1418,\n",
       " 'freeballin': 2703,\n",
       " 'sight': 5970,\n",
       " 'caesar': 1183,\n",
       " 'forever': 2663,\n",
       " 'outdoor': 4817,\n",
       " 'trials': 6904,\n",
       " 'ecclesia': 2207,\n",
       " 'cuisine': 1719,\n",
       " 'speedy': 6215,\n",
       " 'xf': 7470,\n",
       " 'jaws': 3566,\n",
       " 'cogs': 1489,\n",
       " 'mortality': 4396,\n",
       " 'piazza': 4988,\n",
       " 'n': 4494,\n",
       " 'grades': 2963,\n",
       " 'beast': 776,\n",
       " 'bliss': 910,\n",
       " 'unmasked': 7076,\n",
       " '1948': 56,\n",
       " 'challenger': 1312,\n",
       " 'futurama': 2767,\n",
       " 'bazookatone': 764,\n",
       " 'fill': 2560,\n",
       " 'butterflycatch': 1172,\n",
       " 'fortix': 2672,\n",
       " 'bytes': 1178,\n",
       " 'flux': 2640,\n",
       " 'phantom': 4976,\n",
       " 'until': 7086,\n",
       " 'honor': 3275,\n",
       " 'chameleon': 1316,\n",
       " 'nightshade': 4609,\n",
       " 'spectrum': 6210,\n",
       " 'extraterrestrials': 2434,\n",
       " 'heartbreak': 3163,\n",
       " 'battlesport': 753,\n",
       " 'scrapyard': 5788,\n",
       " '80s': 196,\n",
       " 'logy': 3964,\n",
       " 'hellgate': 3189,\n",
       " 'ocean': 4701,\n",
       " 'upon': 7091,\n",
       " 'tonma': 6790,\n",
       " 'ultima': 7014,\n",
       " 'throwback': 6720,\n",
       " 'weapon': 7301,\n",
       " 'onechanbara': 4752,\n",
       " 'idarb': 3372,\n",
       " 'accent': 239,\n",
       " 'f355': 2446,\n",
       " 'clayfighter': 1438,\n",
       " 'dominator': 2046,\n",
       " 'chrono': 1400,\n",
       " 'ivy': 3530,\n",
       " 'military': 4276,\n",
       " 'hex': 3209,\n",
       " 'ct': 1707,\n",
       " 'full': 2747,\n",
       " 'untamed': 7085,\n",
       " 'breath': 1060,\n",
       " 'passport': 4911,\n",
       " 'wiki': 7348,\n",
       " 'whip': 7328,\n",
       " 'talons': 6576,\n",
       " 'd4': 1756,\n",
       " 'panic': 4874,\n",
       " 'room': 5635,\n",
       " 'pxl': 5267,\n",
       " 'dunwall': 2171,\n",
       " 'carol': 1243,\n",
       " 'neptunia': 4563,\n",
       " 'scorpion': 5781,\n",
       " 'kao': 3670,\n",
       " 'spacetime': 6188,\n",
       " 'us': 7097,\n",
       " 'guard': 3035,\n",
       " '1979': 60,\n",
       " 'shooter': 5936,\n",
       " 'ddrmax': 1830,\n",
       " 'space': 6184,\n",
       " 'mobilized': 4351,\n",
       " 'john': 3603,\n",
       " 'rowan': 5651,\n",
       " 'zapped': 7540,\n",
       " 'scorched': 5778,\n",
       " 'haunting': 3147,\n",
       " 'discworld': 1989,\n",
       " 'xii': 7475,\n",
       " 'piggies': 5000,\n",
       " '2000': 79,\n",
       " 'chili': 1370,\n",
       " 'dawn': 1820,\n",
       " 'marine': 4122,\n",
       " 'manchester': 4092,\n",
       " 'destruction': 1924,\n",
       " 'guide': 3040,\n",
       " 'climber': 1443,\n",
       " 'popcap': 5110,\n",
       " 'grunty': 3026,\n",
       " 'atom': 593,\n",
       " 'decade': 1853,\n",
       " 'boards': 947,\n",
       " 'chinatown': 1375,\n",
       " 'vipers': 7190,\n",
       " 'smuggler': 6105,\n",
       " 'pq': 5148,\n",
       " '2k7': 142,\n",
       " 'samegame': 5719,\n",
       " 'katana': 3687,\n",
       " 'snowblind': 6127,\n",
       " 'pitball': 5028,\n",
       " 'diamond': 1944,\n",
       " 'ce': 1290,\n",
       " 'india': 3425,\n",
       " 'starved': 6342,\n",
       " 'etherlords': 2357,\n",
       " 'vol': 7206,\n",
       " 'xenosaga': 7466,\n",
       " 'holmes': 3259,\n",
       " 'rambo': 5343,\n",
       " 'weapons': 7302,\n",
       " 'sosa': 6169,\n",
       " 'battlebots': 736,\n",
       " 'dredd': 2114,\n",
       " 'tokimeki': 6777,\n",
       " 'idracula': 3374,\n",
       " 'most': 4403,\n",
       " 'prestige': 5169,\n",
       " 'video': 7168,\n",
       " 'reservoir': 5471,\n",
       " 'amy': 417,\n",
       " 'kidz': 3724,\n",
       " 'aerosmith': 280,\n",
       " 'kahoots': 3655,\n",
       " 'sphinx': 6226,\n",
       " 'wargame': 7255,\n",
       " 'sorry': 6168,\n",
       " 'reminisce': 5453,\n",
       " 'pimp': 5012,\n",
       " 'winds': 7364,\n",
       " 'think': 6691,\n",
       " 'thief': 6686,\n",
       " 'cargo': 1234,\n",
       " 'purgatory': 5251,\n",
       " 'safecracker': 5701,\n",
       " 'groove': 3014,\n",
       " 'entwined': 2320,\n",
       " 'busters': 1165,\n",
       " 'twisted': 6990,\n",
       " 'nuts': 4682,\n",
       " 'hardline': 3126,\n",
       " 'spyder': 6275,\n",
       " 'brian': 1065,\n",
       " 'galaxian': 2789,\n",
       " 'triad': 6902,\n",
       " 'descent': 1904,\n",
       " 'devils': 1937,\n",
       " 'learn': 3865,\n",
       " 'denied': 1893,\n",
       " 'warped': 7269,\n",
       " 'freekstyle': 2707,\n",
       " 'fs5': 2741,\n",
       " '100': 16,\n",
       " 'infected': 3434,\n",
       " 'terror': 6656,\n",
       " 'taiketsu': 6562,\n",
       " 'prinny': 5183,\n",
       " 'armello': 524,\n",
       " 'morty': 4397,\n",
       " 'mx': 4478,\n",
       " 'ranch': 5349,\n",
       " 'ulysses': 7021,\n",
       " 'blitzkrieg': 912,\n",
       " 'goemon': 2930,\n",
       " 'friday': 2718,\n",
       " 'ipod': 3501,\n",
       " 'gladius': 2898,\n",
       " 'good': 2944,\n",
       " 'pennant': 4947,\n",
       " 'heartgold': 3165,\n",
       " 'langrisser': 3833,\n",
       " 'motorsports': 4419,\n",
       " 'advent': 268,\n",
       " 'r4': 5300,\n",
       " 'waking': 7230,\n",
       " 'ragnarok': 5325,\n",
       " 'speedzone': 6216,\n",
       " 'zarathustra': 7542,\n",
       " 'threat': 6708,\n",
       " 'radio': 5319,\n",
       " 'ricky': 5527,\n",
       " 'burning': 1155,\n",
       " 'harukanaru': 3137,\n",
       " 'geo': 2856,\n",
       " 'wily': 7358,\n",
       " 'expedition': 2412,\n",
       " 'instincts': 3463,\n",
       " 'paintball': 4859,\n",
       " 'heist': 3183,\n",
       " 'realmyst': 5395,\n",
       " 'everybody': 2378,\n",
       " 'legion': 3881,\n",
       " 'senior': 5832,\n",
       " 'deserts': 1907,\n",
       " 'mia': 4248,\n",
       " 'f': 2443,\n",
       " 'dodgeball': 2023,\n",
       " 'planetside': 5052,\n",
       " 'borderlands': 999,\n",
       " 'goin': 2933,\n",
       " 'cliffhangers': 1440,\n",
       " 'rain': 5336,\n",
       " 'chibikko': 1362,\n",
       " 'arabian': 490,\n",
       " 'z': 7536,\n",
       " 'refrain': 5434,\n",
       " '2k10': 130,\n",
       " 'hornet': 3293,\n",
       " 'spills': 6235,\n",
       " 'argus': 512,\n",
       " 'skies': 6037,\n",
       " 'drakken': 2104,\n",
       " 'muncher': 4452,\n",
       " 'axiom': 632,\n",
       " 'pick': 4990,\n",
       " 'deadlocked': 1836,\n",
       " '41': 164,\n",
       " 'lasagna': 3841,\n",
       " 'best': 823,\n",
       " 'memory': 4218,\n",
       " 'interior': 3476,\n",
       " 'badge': 663,\n",
       " 'destination': 1916,\n",
       " 'defendin': 1872,\n",
       " 'arcadias': 496,\n",
       " 'flesh': 2616,\n",
       " 'high': 3218,\n",
       " 'touchmaster': 6825,\n",
       " 'retail': 5488,\n",
       " 'riding': 5538,\n",
       " 'basketball': 719,\n",
       " 'price': 5171,\n",
       " 'oratorio': 4776,\n",
       " 'warfare': 7252,\n",
       " 'eating': 2205,\n",
       " 'possible': 5126,\n",
       " 'score': 5779,\n",
       " 'torchlight': 6806,\n",
       " 'normaltanks': 4646,\n",
       " 'hoops': 3281,\n",
       " 'will': 7353,\n",
       " 'clothing': 1457,\n",
       " 'allies': 370,\n",
       " 'energy': 2306,\n",
       " 'boost': 995,\n",
       " 'bunnies': 1145,\n",
       " 'pooh': 5105,\n",
       " 'iii': 3383,\n",
       " 'hannspree': 3119,\n",
       " 'peach': 4935,\n",
       " 'guy': 3070,\n",
       " 'cossacks': 1614,\n",
       " 'painkiller': 4857,\n",
       " 'chemical': 1353,\n",
       " 'clive': 1446,\n",
       " 'sunset': 6469,\n",
       " 'unlimited': 7075,\n",
       " 'junior': 3642,\n",
       " 'geodefense': 2857,\n",
       " 'psn': 5222,\n",
       " 'billiards': 850,\n",
       " 'jade': 3544,\n",
       " 'amazing': 395,\n",
       " 'apes': 471,\n",
       " 'deca': 1852,\n",
       " 'nightclub': 4600,\n",
       " 'frontier': 2731,\n",
       " 'bogey': 958,\n",
       " 'brainhov': 1034,\n",
       " 'blind': 908,\n",
       " 'y': 7495,\n",
       " 'athena': 583,\n",
       " 'naval': 4532,\n",
       " 'zeit': 7551,\n",
       " 'scars': 5762,\n",
       " 'wookiees': 7413,\n",
       " 'pump': 5239,\n",
       " 'viggo': 7173,\n",
       " 'sinbad': 6003,\n",
       " 'azoth': 638,\n",
       " 'ground': 3021,\n",
       " 'boxboy': 1021,\n",
       " 'apox': 477,\n",
       " 'conqueror': 1559,\n",
       " 'puppy': 5249,\n",
       " 'breeders': 1062,\n",
       " 'blade': 884,\n",
       " 'martians': 4132,\n",
       " 'outbreak': 4814,\n",
       " 'shivering': 5927,\n",
       " 'firefall': 2573,\n",
       " 'millan': 4278,\n",
       " 'wham': 7319,\n",
       " 'batman': 729,\n",
       " 'waverly': 7293,\n",
       " 'nibelungen': 4590,\n",
       " 'ninjabread': 4618,\n",
       " 'nipponica': 4624,\n",
       " 'blaze': 896,\n",
       " 'snes': 6118,\n",
       " 'invisibles': 3494,\n",
       " 'atlantis': 590,\n",
       " 'gamebreaker': 2801,\n",
       " 'nimbus': 4614,\n",
       " 'grom': 3011,\n",
       " 'steering': 6360,\n",
       " 'retriever': 5491,\n",
       " 'captain': 1225,\n",
       " '2017': 96,\n",
       " 'sonson': 6161,\n",
       " 'rubik': 5660,\n",
       " 'whiskers': 7331,\n",
       " 'turvy': 6979,\n",
       " 'wade': 7225,\n",
       " 'x3': 7453,\n",
       " 'antz': 465,\n",
       " 'wave': 7292,\n",
       " 'wild': 7349,\n",
       " 'dave': 1816,\n",
       " 'tear': 6612,\n",
       " 'shogun': 5933,\n",
       " 'slugfest': 6084,\n",
       " 'interactive': 3474,\n",
       " 'gromada': 3012,\n",
       " 'grav': 2976,\n",
       " 'grande': 2971,\n",
       " 'sigma': 5972,\n",
       " 'fighters': 2555,\n",
       " 'diner': 1969,\n",
       " 'unrivaled': 7081,\n",
       " 'hoth': 3304,\n",
       " 'toki': 6776,\n",
       " 'lost': 3990,\n",
       " 'jack': 3537,\n",
       " 'evolution': 2386,\n",
       " 'lolo': 3968,\n",
       " 'severed': 5861,\n",
       " 'splosion': 6252,\n",
       " 'fairytale': 2469,\n",
       " 'pocket': 5082,\n",
       " 'yoostar': 7521,\n",
       " 'gbc': 2835,\n",
       " 'snicket': 6119,\n",
       " 'subsistence': 6439,\n",
       " 'door': 2063,\n",
       " 'remnant': 5456,\n",
       " 'memorick': 4216,\n",
       " 'flower': 2636,\n",
       " 'kobe': 3769,\n",
       " 'moon': 4381,\n",
       " 'airport': 331,\n",
       " 'chartfight': 1339,\n",
       " 'arctic': 504,\n",
       " 'seablade': 5804,\n",
       " 'orc': 4781,\n",
       " 'iridium': 3505,\n",
       " 'com': 1514,\n",
       " 'geometry': 2861,\n",
       " 'bruce': 1095,\n",
       " 'sword': 6533,\n",
       " 'ho': 3244,\n",
       " 'insanely': 3455,\n",
       " 'episode': 2327,\n",
       " 'mcilroy': 4180,\n",
       " 'what': 7320,\n",
       " 'sitting': 6020,\n",
       " 'crimes': 1668,\n",
       " 'ducktales': 2154,\n",
       " 'venture': 7145,\n",
       " 'drums': 2143,\n",
       " 'og': 4726,\n",
       " 'reflex': 5433,\n",
       " 'lights': 3915,\n",
       " 'v2': 7102,\n",
       " 'editor': 2226,\n",
       " 'three': 6709,\n",
       " 'stormrise': 6394,\n",
       " 'flightstick': 2622,\n",
       " 'size': 6024,\n",
       " 'claw': 1436,\n",
       " 'darkstone': 1806,\n",
       " 'enterprises': 2316,\n",
       " 'rise': 5556,\n",
       " 'relish': 5446,\n",
       " 'kabookii': 3650,\n",
       " 'duckshot': 2153,\n",
       " 'fur': 2756,\n",
       " 'sabre': 5695,\n",
       " 'chief': 1365,\n",
       " 'coded': 1482,\n",
       " 'overturn': 4839,\n",
       " 'cute': 1733,\n",
       " 'contact': 1568,\n",
       " 'titanfall': 6757,\n",
       " 'salvo': 5716,\n",
       " 'novelist': 4668,\n",
       " 'web': 7303,\n",
       " 'investigations': 3490,\n",
       " 'ass': 560,\n",
       " 'expeditions': 2413,\n",
       " 'remain': 5448,\n",
       " 'nole': 4640,\n",
       " 'paperfield': 4884,\n",
       " 'toy': 6842,\n",
       " 'impact': 3401,\n",
       " 'risky': 5561,\n",
       " 'driveclub': 2124,\n",
       " 'expand': 2410,\n",
       " 'academy': 235,\n",
       " 'collapse': 1495,\n",
       " 'editors_choice': 2227,\n",
       " '20th': 108,\n",
       " 'silent': 5978,\n",
       " 'lo': 3949,\n",
       " 'mora': 4387,\n",
       " 'side': 5965,\n",
       " 'crystalis': 1705,\n",
       " 'marathon': 4113,\n",
       " 'firered': 2578,\n",
       " 'skyward': 6058,\n",
       " 'league': 3862,\n",
       " 'turvys': 6980,\n",
       " 'perfection': 4954,\n",
       " 'beyond': 832,\n",
       " 'chains': 1308,\n",
       " 'huntsclan': 3338,\n",
       " 'jones': 3612,\n",
       " 'winback': 7361,\n",
       " 'aqua': 481,\n",
       " 'faster': 2499,\n",
       " '1946': 55,\n",
       " 'reels': 5432,\n",
       " 'portable': 5119,\n",
       " 'dirge': 1979,\n",
       " '99bullets': 213,\n",
       " 'monday': 4365,\n",
       " 'savage': 5746,\n",
       " 'asian': 558,\n",
       " 'movieland': 4432,\n",
       " 'paint': 4858,\n",
       " 'leo': 3891,\n",
       " 'factor': 2456,\n",
       " 'huntin': 3335,\n",
       " 'powerboat': 5136,\n",
       " 'rocket': 5600,\n",
       " 'gunner': 3057,\n",
       " 'hells': 3191,\n",
       " 'hearthstone': 3166,\n",
       " 'datura': 1815,\n",
       " 'hangman': 3116,\n",
       " 'iggy': 3376,\n",
       " 'rabbits': 5305,\n",
       " 'unplugged': 7078,\n",
       " 'on': 4749,\n",
       " 'faithlessness': 2471,\n",
       " 'kakuto': 3663,\n",
       " 'kinect': 3733,\n",
       " 'struggle': 6422,\n",
       " 'glu': 2911,\n",
       " 'wack': 7222,\n",
       " 'fusionfall': 2765,\n",
       " 'student': 6425,\n",
       " 'totori': 6822,\n",
       " 'speeddaters': 6213,\n",
       " 'aliens': 360,\n",
       " 'b': 643,\n",
       " 'spore': 6255,\n",
       " 'offroad': 4723,\n",
       " 'dodonpachi': 2026,\n",
       " 'vasar': 7130,\n",
       " 'batter': 731,\n",
       " 'outland': 4822,\n",
       " 'chernobyl': 1354,\n",
       " 'improve': 3410,\n",
       " 'honest': 3272,\n",
       " 'hat': 3142,\n",
       " 'sorcery': 6165,\n",
       " 'mage': 4047,\n",
       " 'flametail': 2606,\n",
       " 'tigger': 6733,\n",
       " 'papa': 4881,\n",
       " 'treasures': 6891,\n",
       " 'calm': 1197,\n",
       " 'homerun': 3265,\n",
       " 'sine': 6005,\n",
       " 'tobal': 6768,\n",
       " 'generations': 2849,\n",
       " 'y2k': 7496,\n",
       " 'riddim': 5530,\n",
       " 'swap': 6514,\n",
       " 'hall': 3091,\n",
       " 'miller': 4281,\n",
       " 'mortyr': 4398,\n",
       " 'aquila': 488,\n",
       " 'lanes': 3832,\n",
       " 'overload': 4835,\n",
       " 'bigs': 843,\n",
       " 'virtual': 7193,\n",
       " 'teacup': 6609,\n",
       " 'ferrari': 2534,\n",
       " 'dying': 2182,\n",
       " 'eldora': 2251,\n",
       " 'motorsport': 4418,\n",
       " 'broforce': 1083,\n",
       " 'lupin': 4013,\n",
       " 'juarez': 3625,\n",
       " 'heroes': 3207,\n",
       " 'archives': 502,\n",
       " 'cross': 1681,\n",
       " 'party': 4907,\n",
       " 'redguard': 5422,\n",
       " 'anatomy': 422,\n",
       " 'luminous': 4011,\n",
       " 'hb': 3155,\n",
       " 'axe': 629,\n",
       " 'afrika': 286,\n",
       " 'pripyat': 5184,\n",
       " 'gran': 2967,\n",
       " 'macdonald': 4025,\n",
       " 'stadium': 6297,\n",
       " 'exiled': 2404,\n",
       " 'fillmore': 2562,\n",
       " 'catan': 1272,\n",
       " 'birthday': 867,\n",
       " 'teacher': 6608,\n",
       " 'montana': 4378,\n",
       " 'chest': 1358,\n",
       " 'trl': 6929,\n",
       " 'rhapsody': 5516,\n",
       " 'athletica': 586,\n",
       " 'flappy': 2608,\n",
       " 'hitchcock': 3235,\n",
       " 'walk': 7232,\n",
       " 'melee': 4211,\n",
       " 'dolphinz': 2043,\n",
       " 'mek': 4210,\n",
       " 'sesame': 5852,\n",
       " 'skydrift': 6052,\n",
       " 'l': 3807,\n",
       " 'skin': 6040,\n",
       " 'planet': 5050,\n",
       " 'telegraph': 6627,\n",
       " 'dev': 1931,\n",
       " 'kharak': 3714,\n",
       " 'spec': 6204,\n",
       " 'under': 7032,\n",
       " 'beneath': 815,\n",
       " 'designer': 1909,\n",
       " 'jamdat': 3553,\n",
       " 'darkest': 1797,\n",
       " 'lions': 3937,\n",
       " 'wcw': 7298,\n",
       " 'hakusho': 3088,\n",
       " 'conduit': 1549,\n",
       " 'speak': 6201,\n",
       " 'rebelstar': 5404,\n",
       " 'tamagotchi': 6577,\n",
       " 'jackrabbit': 3541,\n",
       " 'gungeon': 3051,\n",
       " 'comedy': 1522,\n",
       " 'warriors': 7273,\n",
       " 'kabuto': 3651,\n",
       " 'glow': 2910,\n",
       " 'topoq': 6802,\n",
       " 'carter': 1253,\n",
       " 'sammun': 5720,\n",
       " 'badass': 661,\n",
       " 'rocky': 5607,\n",
       " 'gel': 2841,\n",
       " 'dynamokid': 2184,\n",
       " 'screamride': 5794,\n",
       " 'quad': 5278,\n",
       " '530': 176,\n",
       " 'vertical': 7155,\n",
       " 'ducks': 2152,\n",
       " 'bumble': 1136,\n",
       " 'narco': 4519,\n",
       " 'popeye': 5111,\n",
       " 'rambler': 5342,\n",
       " 'derrick': 1902,\n",
       " 'mysteries': 4485,\n",
       " 'w': 7221,\n",
       " 'kona': 3776,\n",
       " 'maze': 4172,\n",
       " 'protocol': 5214,\n",
       " 'plucky': 5078,\n",
       " 'carmichael': 1238,\n",
       " 'lives': 3945,\n",
       " 'faction': 2454,\n",
       " 'skipper': 6042,\n",
       " 'dogfighter': 2029,\n",
       " 'life': 3909,\n",
       " 'alternate': 386,\n",
       " 'warzone': 7279,\n",
       " 'lookout': 3976,\n",
       " 'ardennes': 506,\n",
       " 'pucca': 5231,\n",
       " 'multi': 4448,\n",
       " 'billy': 851,\n",
       " 'death': 1841,\n",
       " 'get': 2868,\n",
       " 'scene': 5766,\n",
       " 'groovy': 3018,\n",
       " 'cheerleaders': 1349,\n",
       " 'mach': 4027,\n",
       " 'defense': 1873,\n",
       " 'jonny': 3614,\n",
       " 'wii': 7345,\n",
       " 'pottery': 5132,\n",
       " 'midgard': 4264,\n",
       " 'timesplitters': 6746,\n",
       " 'velvet': 7140,\n",
       " 'runes': 5679,\n",
       " 'scholarship': 5768,\n",
       " 'iron': 3507,\n",
       " 'ultraman': 7019,\n",
       " 'daisy': 1769,\n",
       " 'chicago': 1363,\n",
       " 'xeodrifter': 7468,\n",
       " 'behave': 802,\n",
       " 'kunoichi': 3800,\n",
       " 'jammer': 3557,\n",
       " 'warhammer': 7257,\n",
       " 'our': 4811,\n",
       " 'undying': 7048,\n",
       " 'scoop': 5775,\n",
       " 'starz': 6344,\n",
       " 'ution': 7099,\n",
       " 'express': 2427,\n",
       " 'mushroom': 4467,\n",
       " 'british': 1081,\n",
       " 'gears': 2838,\n",
       " 'rotosphere': 5645,\n",
       " 'yoshi': 7524,\n",
       " 'blockade': 917,\n",
       " '98': 209,\n",
       " 'purr': 5254,\n",
       " 'jaruu': 3563,\n",
       " 'babel': 646,\n",
       " 'racin': 5311,\n",
       " 'exodus': 2407,\n",
       " 'hitman': 3237,\n",
       " 'matching': 4151,\n",
       " 'madagascar': 4035,\n",
       " 'jerry': 3581,\n",
       " 'beach': 768,\n",
       " 'is': 3511,\n",
       " 'throwdown': 6721,\n",
       " 'dissonance': 1998,\n",
       " 'are': 507,\n",
       " 'jojo': 3608,\n",
       " 'crush': 1698,\n",
       " 'hood': 3276,\n",
       " 'vvvvvv': 7220,\n",
       " 'italian': 3525,\n",
       " 'daydream': 1824,\n",
       " 'daxter': 1822,\n",
       " 'european': 2366,\n",
       " 'stardom': 6313,\n",
       " 'kane': 3668,\n",
       " 'future': 2768,\n",
       " 'brick': 1066,\n",
       " 'beltlogger': 812,\n",
       " 'epic': 2324,\n",
       " 'trophy': 6937,\n",
       " 'swagman': 6510,\n",
       " 'conquerors': 1560,\n",
       " 'ghoulies': 2879,\n",
       " 'yard': 7506,\n",
       " 'hominid': 3270,\n",
       " 'davidson': 1818,\n",
       " 'dora': 2065,\n",
       " 'jazz': 3567,\n",
       " 'arkham': 517,\n",
       " 'hurricane': 3339,\n",
       " 'fantasy': 2486,\n",
       " 'mode': 4354,\n",
       " 'metal': 4238,\n",
       " 'stations': 6349,\n",
       " 'surf': 6491,\n",
       " 'odium': 4714,\n",
       " 'clumsy': 1467,\n",
       " 'bastion': 724,\n",
       " 'little': 3941,\n",
       " 'skills': 6039,\n",
       " 'niki': 4611,\n",
       " 'krissx': 3793,\n",
       " 'mass': 4141,\n",
       " 'colors': 1507,\n",
       " 'swan': 6513,\n",
       " 'demolition': 1889,\n",
       " 'cubes': 1712,\n",
       " 'arcana': 497,\n",
       " 'beginner': 798,\n",
       " 'settlers': 5856,\n",
       " 'mike': 4273,\n",
       " 'dirt': 1980,\n",
       " '2k17': 137,\n",
       " 'soundodger': 6177,\n",
       " 'tree': 6893,\n",
       " 'crypt': 1701,\n",
       " 'rummy': 5674,\n",
       " 'welcome': 7307,\n",
       " 'fishin': 2590,\n",
       " 'chuzzle': 1408,\n",
       " 'once': 4750,\n",
       " 'superstars': 6488,\n",
       " 'stakes': 6302,\n",
       " 'missile': 4329,\n",
       " 'maru': 4133,\n",
       " 'chipmunks': 1378,\n",
       " 'conundrum': 1585,\n",
       " 'unity': 7066,\n",
       " 'force': 2659,\n",
       " 'throttle': 6718,\n",
       " 'man': 4089,\n",
       " 'castlestorm': 1266,\n",
       " 'richard': 5525,\n",
       " 'stoked': 6382,\n",
       " 'tesla': 6659,\n",
       " 'lego': 3883,\n",
       " 'joust': 3620,\n",
       " 'precursor': 5154,\n",
       " 'fossil': 2677,\n",
       " 'guncraft': 3049,\n",
       " 'unhinged': 7055,\n",
       " 'generation': 2848,\n",
       " 'hundred': 3329,\n",
       " 'plants': 5057,\n",
       " 'invizimals': 3497,\n",
       " 'ac': 234,\n",
       " 'fright': 2721,\n",
       " 'caterpillar': 1276,\n",
       " 'oregon': 4789,\n",
       " 'pandaria': 4870,\n",
       " 'mean': 4187,\n",
       " 'teras': 6647,\n",
       " 'retaliation': 5489,\n",
       " 'session': 5853,\n",
       " 'siege': 5969,\n",
       " 'oh': 4729,\n",
       " 'blues': 939,\n",
       " 'incredibles': 3421,\n",
       " 'majora': 4070,\n",
       " 'muto': 4475,\n",
       " 'tobe': 6769,\n",
       " 'disruptor': 1996,\n",
       " 'buddies': 1113,\n",
       " 'krondor': 3794,\n",
       " 'graffiti': 2965,\n",
       " 'driver': 2126,\n",
       " 'offshore': 4724,\n",
       " 'worms': 7430,\n",
       " 'tecmo': 6619,\n",
       " 'rygar': 5689,\n",
       " 'furi': 2757,\n",
       " 'key': 3711,\n",
       " 'infamous': 3433,\n",
       " 'cubello': 1711,\n",
       " 'ted': 6620,\n",
       " 'pinnacle': 5020,\n",
       " 'lemony': 3889,\n",
       " 'tentacle': 6645,\n",
       " 'drakengard': 2101,\n",
       " 'dig': 1956,\n",
       " 'universalis': 7068,\n",
       " 'babe': 645,\n",
       " 'railroads': 5333,\n",
       " 'da': 1757,\n",
       " 'tell': 6628,\n",
       " 'blackthorne': 882,\n",
       " 'watch': 7285,\n",
       " 'martian': 4131,\n",
       " 'rules': 5670,\n",
       " 'namco': 4506,\n",
       " 'puzzloop': 5266,\n",
       " 'garshasp': 2823,\n",
       " 'germany': 2866,\n",
       " 'indy': 3430,\n",
       " 'drowned': 2138,\n",
       " 'turbo': 6968,\n",
       " 'cue': 1717,\n",
       " 'arcane': 498,\n",
       " 'unison': 7061,\n",
       " 'booty': 998,\n",
       " 'plankton': 5054,\n",
       " 'needs': 4549,\n",
       " 'luxor': 4017,\n",
       " 'break': 1049,\n",
       " 'bio': 857,\n",
       " 'icewind': 3368,\n",
       " 'soulcalibur': 6172,\n",
       " 'hounds': 3307,\n",
       " 'playground': 5070,\n",
       " '1980': 61,\n",
       " 'skate': 6028,\n",
       " 'murakumo': 4456,\n",
       " 'darkness': 1800,\n",
       " '2': 77,\n",
       " 'bully': 1135,\n",
       " 'half': 3090,\n",
       " 'grooves': 3016,\n",
       " 'ballistics': 681,\n",
       " 'one': 4751,\n",
       " 'fracture': 2686,\n",
       " 'chrysler': 1403,\n",
       " 'bo': 942,\n",
       " 'demons': 1891,\n",
       " 'reptar': 5464,\n",
       " 'septerra': 5840,\n",
       " '1937': 48,\n",
       " 'lone': 3971,\n",
       " 'scratches': 5790,\n",
       " 'zone': 7579,\n",
       " 'jumble': 3635,\n",
       " 'bobby': 953,\n",
       " 'pro': 5192,\n",
       " 'chicken': 1364,\n",
       " 'bowling': 1017,\n",
       " 'suzuki': 6507,\n",
       " 'tonelico': 6787,\n",
       " 'astrosmash': 576,\n",
       " 'terrestrial': 6654,\n",
       " 'watersports': 7291,\n",
       " 'ox': 4843,\n",
       " 'lord': 3983,\n",
       " 'equestrian': 2331,\n",
       " 'genius': 2854,\n",
       " 'active': 252,\n",
       " 'x4': 7454,\n",
       " 'zatch': 7544,\n",
       " 'seventh': 5859,\n",
       " 'microphone': 4261,\n",
       " 'silver': 5983,\n",
       " 'smoke': 6102,\n",
       " 'spyhunter': 6277,\n",
       " 'victorious': 7166,\n",
       " 'many': 4110,\n",
       " 'nanotek': 4513,\n",
       " '911': 203,\n",
       " 'eyegore': 2439,\n",
       " 'scribblenauts': 5798,\n",
       " 'kessen': 3709,\n",
       " 'amped': 412,\n",
       " 'panty': 4878,\n",
       " 'underpants': 7040,\n",
       " 'bionicle': 860,\n",
       " 'fury': 2762,\n",
       " 'since': 6004,\n",
       " 'tina': 6748,\n",
       " 'raiden': 5327,\n",
       " 'fieldrunners': 2548,\n",
       " 'spaceforce': 6186,\n",
       " 'mic': 4251,\n",
       " 'annihilation': 452,\n",
       " 'dalmatians': 1772,\n",
       " 'zones': 7580,\n",
       " 'director': 1978,\n",
       " 'lair': 3818,\n",
       " 'lightspeed': 3917,\n",
       " 'harmonious': 3133,\n",
       " 'slyder': 6087,\n",
       " 'challenge': 1311,\n",
       " 'smugglers': 6106,\n",
       " 'vmx': 7203,\n",
       " 'grimm': 3004,\n",
       " 'ego': 2240,\n",
       " 'fenris': 2533,\n",
       " 'traffic': 6856,\n",
       " 'drum': 2142,\n",
       " 'burton': 1158,\n",
       " 'jane': 3558,\n",
       " 'jenseits': 3577,\n",
       " 'riviera': 5572,\n",
       " 'hutch': 3344,\n",
       " '2k12': 132,\n",
       " 'soviet': 6182,\n",
       " 'taste': 6599,\n",
       " 'shipwreckers': 5925,\n",
       " 'wraithborne': 7431,\n",
       " 'trax': 6886,\n",
       " 'darkstalkers': 1804,\n",
       " 'duels': 2158,\n",
       " ...}"
      ]
     },
     "execution_count": 37,
     "metadata": {},
     "output_type": "execute_result"
    }
   ],
   "source": [
    "vocab"
   ]
  },
  {
   "cell_type": "code",
   "execution_count": 38,
   "metadata": {
    "collapsed": false
   },
   "outputs": [
    {
     "data": {
      "text/plain": [
       "45"
      ]
     },
     "execution_count": 38,
     "metadata": {},
     "output_type": "execute_result"
    }
   ],
   "source": [
    "vocab['187']"
   ]
  },
  {
   "cell_type": "markdown",
   "metadata": {},
   "source": [
    "#### converting X_word to X_ids"
   ]
  },
  {
   "cell_type": "code",
   "execution_count": 39,
   "metadata": {
    "collapsed": true
   },
   "outputs": [],
   "source": [
    "def convert_X_to_X_word_ids(X):\n",
    "    return X.apply( lambda x: [vocab[w] for w in [w.lower().strip() for w in x.split()] if w in vocab] )"
   ]
  },
  {
   "cell_type": "code",
   "execution_count": 40,
   "metadata": {
    "collapsed": true
   },
   "outputs": [],
   "source": [
    "X_train_word_ids = convert_X_to_X_word_ids(X_train)\n",
    "X_test_word_ids  = convert_X_to_X_word_ids(X_test)"
   ]
  },
  {
   "cell_type": "code",
   "execution_count": 41,
   "metadata": {
    "collapsed": false
   },
   "outputs": [
    {
     "data": {
      "text/plain": [
       "16138    Castlevania Harmony of Despair PlayStation 3 A...\n",
       "5945     Kim Possible 2 Drakken's Demise Game Boy Advan...\n",
       "11360                   Madden NFL 09 PlayStation 2 Sports\n",
       "18270                          WWE 2K16 Xbox One Wrestling\n",
       "12533               The Last Ninja Commodore 64/128 Action\n",
       "Name: text, dtype: object"
      ]
     },
     "execution_count": 41,
     "metadata": {},
     "output_type": "execute_result"
    }
   ],
   "source": [
    "X_train.head()"
   ]
  },
  {
   "cell_type": "code",
   "execution_count": 42,
   "metadata": {
    "collapsed": false
   },
   "outputs": [
    {
     "data": {
      "text/plain": [
       "16138        [1267, 3134, 4717, 1911, 5074, 149, 251, 269]\n",
       "5945     [3730, 5126, 77, 1888, 2799, 1025, 266, 5062, ...\n",
       "11360                     [4037, 4585, 13, 5074, 77, 6257]\n",
       "18270                        [7447, 136, 7458, 4751, 7439]\n",
       "12533                        [6674, 3843, 4617, 1533, 251]\n",
       "Name: text, dtype: object"
      ]
     },
     "execution_count": 42,
     "metadata": {},
     "output_type": "execute_result"
    }
   ],
   "source": [
    "X_train_word_ids.head()"
   ]
  },
  {
   "cell_type": "code",
   "execution_count": 43,
   "metadata": {
    "collapsed": false
   },
   "outputs": [
    {
     "name": "stdout",
     "output_type": "stream",
     "text": [
      "X_train.shape: (16759,)\n",
      "X_train_word_ids.shape: (16759,)\n",
      "X_test_word_ids.shape: (1863,)\n"
     ]
    }
   ],
   "source": [
    "print('X_train.shape:', X_train.shape)\n",
    "print('X_train_word_ids.shape:', X_train_word_ids.shape)\n",
    "print('X_test_word_ids.shape:', X_test_word_ids.shape)"
   ]
  },
  {
   "cell_type": "markdown",
   "metadata": {},
   "source": [
    "## Sequence padding"
   ]
  },
  {
   "cell_type": "code",
   "execution_count": 44,
   "metadata": {
    "collapsed": true
   },
   "outputs": [],
   "source": [
    "X_train_padded_seqs = pad_sequences(X_train_word_ids, maxlen=20, value=0)\n",
    "X_test_padded_seqs  = pad_sequences(X_test_word_ids , maxlen=20, value=0)"
   ]
  },
  {
   "cell_type": "code",
   "execution_count": 45,
   "metadata": {
    "collapsed": false
   },
   "outputs": [
    {
     "name": "stdout",
     "output_type": "stream",
     "text": [
      "X_train_padded_seqs.shape: (16759, 20)\n",
      "X_test_padded_seqs.shape: (1863, 20)\n"
     ]
    }
   ],
   "source": [
    "print('X_train_padded_seqs.shape:', X_train_padded_seqs.shape)\n",
    "print('X_test_padded_seqs.shape:', X_test_padded_seqs.shape)"
   ]
  },
  {
   "cell_type": "code",
   "execution_count": 46,
   "metadata": {
    "collapsed": false
   },
   "outputs": [
    {
     "data": {
      "text/html": [
       "<div>\n",
       "<table border=\"1\" class=\"dataframe\">\n",
       "  <thead>\n",
       "    <tr style=\"text-align: right;\">\n",
       "      <th></th>\n",
       "      <th>0</th>\n",
       "      <th>1</th>\n",
       "      <th>2</th>\n",
       "      <th>3</th>\n",
       "      <th>4</th>\n",
       "      <th>5</th>\n",
       "      <th>6</th>\n",
       "      <th>7</th>\n",
       "      <th>8</th>\n",
       "      <th>9</th>\n",
       "      <th>10</th>\n",
       "      <th>11</th>\n",
       "      <th>12</th>\n",
       "      <th>13</th>\n",
       "      <th>14</th>\n",
       "      <th>15</th>\n",
       "      <th>16</th>\n",
       "      <th>17</th>\n",
       "      <th>18</th>\n",
       "      <th>19</th>\n",
       "    </tr>\n",
       "  </thead>\n",
       "  <tbody>\n",
       "    <tr>\n",
       "      <th>0</th>\n",
       "      <td>0</td>\n",
       "      <td>0</td>\n",
       "      <td>0</td>\n",
       "      <td>0</td>\n",
       "      <td>0</td>\n",
       "      <td>0</td>\n",
       "      <td>0</td>\n",
       "      <td>0</td>\n",
       "      <td>0</td>\n",
       "      <td>0</td>\n",
       "      <td>0</td>\n",
       "      <td>0</td>\n",
       "      <td>1267</td>\n",
       "      <td>3134</td>\n",
       "      <td>4717</td>\n",
       "      <td>1911</td>\n",
       "      <td>5074</td>\n",
       "      <td>149</td>\n",
       "      <td>251</td>\n",
       "      <td>269</td>\n",
       "    </tr>\n",
       "    <tr>\n",
       "      <th>1</th>\n",
       "      <td>0</td>\n",
       "      <td>0</td>\n",
       "      <td>0</td>\n",
       "      <td>0</td>\n",
       "      <td>0</td>\n",
       "      <td>0</td>\n",
       "      <td>0</td>\n",
       "      <td>0</td>\n",
       "      <td>0</td>\n",
       "      <td>0</td>\n",
       "      <td>0</td>\n",
       "      <td>3730</td>\n",
       "      <td>5126</td>\n",
       "      <td>77</td>\n",
       "      <td>1888</td>\n",
       "      <td>2799</td>\n",
       "      <td>1025</td>\n",
       "      <td>266</td>\n",
       "      <td>5062</td>\n",
       "      <td>2227</td>\n",
       "    </tr>\n",
       "    <tr>\n",
       "      <th>2</th>\n",
       "      <td>0</td>\n",
       "      <td>0</td>\n",
       "      <td>0</td>\n",
       "      <td>0</td>\n",
       "      <td>0</td>\n",
       "      <td>0</td>\n",
       "      <td>0</td>\n",
       "      <td>0</td>\n",
       "      <td>0</td>\n",
       "      <td>0</td>\n",
       "      <td>0</td>\n",
       "      <td>0</td>\n",
       "      <td>0</td>\n",
       "      <td>0</td>\n",
       "      <td>4037</td>\n",
       "      <td>4585</td>\n",
       "      <td>13</td>\n",
       "      <td>5074</td>\n",
       "      <td>77</td>\n",
       "      <td>6257</td>\n",
       "    </tr>\n",
       "    <tr>\n",
       "      <th>3</th>\n",
       "      <td>0</td>\n",
       "      <td>0</td>\n",
       "      <td>0</td>\n",
       "      <td>0</td>\n",
       "      <td>0</td>\n",
       "      <td>0</td>\n",
       "      <td>0</td>\n",
       "      <td>0</td>\n",
       "      <td>0</td>\n",
       "      <td>0</td>\n",
       "      <td>0</td>\n",
       "      <td>0</td>\n",
       "      <td>0</td>\n",
       "      <td>0</td>\n",
       "      <td>0</td>\n",
       "      <td>7447</td>\n",
       "      <td>136</td>\n",
       "      <td>7458</td>\n",
       "      <td>4751</td>\n",
       "      <td>7439</td>\n",
       "    </tr>\n",
       "    <tr>\n",
       "      <th>4</th>\n",
       "      <td>0</td>\n",
       "      <td>0</td>\n",
       "      <td>0</td>\n",
       "      <td>0</td>\n",
       "      <td>0</td>\n",
       "      <td>0</td>\n",
       "      <td>0</td>\n",
       "      <td>0</td>\n",
       "      <td>0</td>\n",
       "      <td>0</td>\n",
       "      <td>0</td>\n",
       "      <td>0</td>\n",
       "      <td>0</td>\n",
       "      <td>0</td>\n",
       "      <td>0</td>\n",
       "      <td>6674</td>\n",
       "      <td>3843</td>\n",
       "      <td>4617</td>\n",
       "      <td>1533</td>\n",
       "      <td>251</td>\n",
       "    </tr>\n",
       "  </tbody>\n",
       "</table>\n",
       "</div>"
      ],
      "text/plain": [
       "   0   1   2   3   4   5   6   7   8   9   10    11    12    13    14    15  \\\n",
       "0   0   0   0   0   0   0   0   0   0   0   0     0  1267  3134  4717  1911   \n",
       "1   0   0   0   0   0   0   0   0   0   0   0  3730  5126    77  1888  2799   \n",
       "2   0   0   0   0   0   0   0   0   0   0   0     0     0     0  4037  4585   \n",
       "3   0   0   0   0   0   0   0   0   0   0   0     0     0     0     0  7447   \n",
       "4   0   0   0   0   0   0   0   0   0   0   0     0     0     0     0  6674   \n",
       "\n",
       "     16    17    18    19  \n",
       "0  5074   149   251   269  \n",
       "1  1025   266  5062  2227  \n",
       "2    13  5074    77  6257  \n",
       "3   136  7458  4751  7439  \n",
       "4  3843  4617  1533   251  "
      ]
     },
     "execution_count": 46,
     "metadata": {},
     "output_type": "execute_result"
    }
   ],
   "source": [
    "pd.DataFrame(X_train_padded_seqs).head()"
   ]
  },
  {
   "cell_type": "code",
   "execution_count": 47,
   "metadata": {
    "collapsed": false
   },
   "outputs": [
    {
     "data": {
      "text/html": [
       "<div>\n",
       "<table border=\"1\" class=\"dataframe\">\n",
       "  <thead>\n",
       "    <tr style=\"text-align: right;\">\n",
       "      <th></th>\n",
       "      <th>0</th>\n",
       "      <th>1</th>\n",
       "      <th>2</th>\n",
       "      <th>3</th>\n",
       "      <th>4</th>\n",
       "      <th>5</th>\n",
       "      <th>6</th>\n",
       "      <th>7</th>\n",
       "      <th>8</th>\n",
       "      <th>9</th>\n",
       "      <th>10</th>\n",
       "      <th>11</th>\n",
       "      <th>12</th>\n",
       "      <th>13</th>\n",
       "      <th>14</th>\n",
       "      <th>15</th>\n",
       "      <th>16</th>\n",
       "      <th>17</th>\n",
       "      <th>18</th>\n",
       "      <th>19</th>\n",
       "    </tr>\n",
       "  </thead>\n",
       "  <tbody>\n",
       "    <tr>\n",
       "      <th>0</th>\n",
       "      <td>0</td>\n",
       "      <td>0</td>\n",
       "      <td>0</td>\n",
       "      <td>0</td>\n",
       "      <td>0</td>\n",
       "      <td>0</td>\n",
       "      <td>0</td>\n",
       "      <td>0</td>\n",
       "      <td>0</td>\n",
       "      <td>0</td>\n",
       "      <td>0</td>\n",
       "      <td>0</td>\n",
       "      <td>0</td>\n",
       "      <td>0</td>\n",
       "      <td>0</td>\n",
       "      <td>0</td>\n",
       "      <td>0</td>\n",
       "      <td>0</td>\n",
       "      <td>7380</td>\n",
       "      <td>5261</td>\n",
       "    </tr>\n",
       "    <tr>\n",
       "      <th>1</th>\n",
       "      <td>0</td>\n",
       "      <td>0</td>\n",
       "      <td>0</td>\n",
       "      <td>0</td>\n",
       "      <td>0</td>\n",
       "      <td>0</td>\n",
       "      <td>0</td>\n",
       "      <td>0</td>\n",
       "      <td>0</td>\n",
       "      <td>0</td>\n",
       "      <td>0</td>\n",
       "      <td>0</td>\n",
       "      <td>0</td>\n",
       "      <td>0</td>\n",
       "      <td>0</td>\n",
       "      <td>2154</td>\n",
       "      <td>5451</td>\n",
       "      <td>5074</td>\n",
       "      <td>149</td>\n",
       "      <td>5062</td>\n",
       "    </tr>\n",
       "    <tr>\n",
       "      <th>2</th>\n",
       "      <td>0</td>\n",
       "      <td>0</td>\n",
       "      <td>0</td>\n",
       "      <td>0</td>\n",
       "      <td>0</td>\n",
       "      <td>0</td>\n",
       "      <td>0</td>\n",
       "      <td>0</td>\n",
       "      <td>0</td>\n",
       "      <td>0</td>\n",
       "      <td>0</td>\n",
       "      <td>0</td>\n",
       "      <td>0</td>\n",
       "      <td>0</td>\n",
       "      <td>4535</td>\n",
       "      <td>3944</td>\n",
       "      <td>12</td>\n",
       "      <td>5074</td>\n",
       "      <td>149</td>\n",
       "      <td>6257</td>\n",
       "    </tr>\n",
       "    <tr>\n",
       "      <th>3</th>\n",
       "      <td>0</td>\n",
       "      <td>0</td>\n",
       "      <td>0</td>\n",
       "      <td>0</td>\n",
       "      <td>0</td>\n",
       "      <td>0</td>\n",
       "      <td>0</td>\n",
       "      <td>0</td>\n",
       "      <td>0</td>\n",
       "      <td>0</td>\n",
       "      <td>0</td>\n",
       "      <td>0</td>\n",
       "      <td>6674</td>\n",
       "      <td>7234</td>\n",
       "      <td>1833</td>\n",
       "      <td>162</td>\n",
       "      <td>1826</td>\n",
       "      <td>4931</td>\n",
       "      <td>269</td>\n",
       "      <td>2329</td>\n",
       "    </tr>\n",
       "    <tr>\n",
       "      <th>4</th>\n",
       "      <td>0</td>\n",
       "      <td>0</td>\n",
       "      <td>0</td>\n",
       "      <td>0</td>\n",
       "      <td>0</td>\n",
       "      <td>0</td>\n",
       "      <td>0</td>\n",
       "      <td>0</td>\n",
       "      <td>0</td>\n",
       "      <td>0</td>\n",
       "      <td>0</td>\n",
       "      <td>0</td>\n",
       "      <td>0</td>\n",
       "      <td>0</td>\n",
       "      <td>0</td>\n",
       "      <td>0</td>\n",
       "      <td>251</td>\n",
       "      <td>935</td>\n",
       "      <td>3500</td>\n",
       "      <td>251</td>\n",
       "    </tr>\n",
       "  </tbody>\n",
       "</table>\n",
       "</div>"
      ],
      "text/plain": [
       "   0   1   2   3   4   5   6   7   8   9   10  11    12    13    14    15  \\\n",
       "0   0   0   0   0   0   0   0   0   0   0   0   0     0     0     0     0   \n",
       "1   0   0   0   0   0   0   0   0   0   0   0   0     0     0     0  2154   \n",
       "2   0   0   0   0   0   0   0   0   0   0   0   0     0     0  4535  3944   \n",
       "3   0   0   0   0   0   0   0   0   0   0   0   0  6674  7234  1833   162   \n",
       "4   0   0   0   0   0   0   0   0   0   0   0   0     0     0     0     0   \n",
       "\n",
       "     16    17    18    19  \n",
       "0     0     0  7380  5261  \n",
       "1  5451  5074   149  5062  \n",
       "2    12  5074   149  6257  \n",
       "3  1826  4931   269  2329  \n",
       "4   251   935  3500   251  "
      ]
     },
     "execution_count": 47,
     "metadata": {},
     "output_type": "execute_result"
    }
   ],
   "source": [
    "pd.DataFrame(X_test_padded_seqs).head()"
   ]
  },
  {
   "cell_type": "markdown",
   "metadata": {},
   "source": [
    "## convert y to vectors"
   ]
  },
  {
   "cell_type": "code",
   "execution_count": 48,
   "metadata": {
    "collapsed": false
   },
   "outputs": [
    {
     "data": {
      "text/plain": [
       "['Great',\n",
       " 'Good',\n",
       " 'Okay',\n",
       " 'Mediocre',\n",
       " 'Amazing',\n",
       " 'Bad',\n",
       " 'Awful',\n",
       " 'Painful',\n",
       " 'Unbearable',\n",
       " 'Masterpiece']"
      ]
     },
     "execution_count": 48,
     "metadata": {},
     "output_type": "execute_result"
    }
   ],
   "source": [
    "unique_y_labels = list(y_train.value_counts().index)\n",
    "unique_y_labels"
   ]
  },
  {
   "cell_type": "code",
   "execution_count": 49,
   "metadata": {
    "collapsed": false
   },
   "outputs": [
    {
     "data": {
      "text/plain": [
       "10"
      ]
     },
     "execution_count": 49,
     "metadata": {},
     "output_type": "execute_result"
    }
   ],
   "source": [
    "len(unique_y_labels)"
   ]
  },
  {
   "cell_type": "code",
   "execution_count": 50,
   "metadata": {
    "collapsed": false
   },
   "outputs": [
    {
     "data": {
      "text/plain": [
       "LabelEncoder()"
      ]
     },
     "execution_count": 50,
     "metadata": {},
     "output_type": "execute_result"
    }
   ],
   "source": [
    "from sklearn import preprocessing\n",
    "le = preprocessing.LabelEncoder()\n",
    "le.fit(unique_y_labels)"
   ]
  },
  {
   "cell_type": "code",
   "execution_count": 51,
   "metadata": {
    "collapsed": false
   },
   "outputs": [
    {
     "name": "stdout",
     "output_type": "stream",
     "text": [
      "\n",
      "4: Great\n",
      "3: Good\n",
      "7: Okay\n",
      "6: Mediocre\n",
      "0: Amazing\n",
      "2: Bad\n",
      "1: Awful\n",
      "8: Painful\n",
      "9: Unbearable\n",
      "5: Masterpiece\n",
      "\n"
     ]
    }
   ],
   "source": [
    "print('')\n",
    "for label_id, label_name in zip(le.transform(unique_y_labels), unique_y_labels):\n",
    "    print('%d: %s' % (label_id, label_name))\n",
    "print('')"
   ]
  },
  {
   "cell_type": "code",
   "execution_count": 52,
   "metadata": {
    "collapsed": true
   },
   "outputs": [],
   "source": [
    "y_train = to_categorical(y_train.map(lambda x: le.transform([x])[0]), nb_classes=len(unique_y_labels))\n",
    "y_test  = to_categorical(y_test.map(lambda x:  le.transform([x])[0]), nb_classes=len(unique_y_labels))"
   ]
  },
  {
   "cell_type": "markdown",
   "metadata": {},
   "source": [
    "-----------"
   ]
  },
  {
   "cell_type": "markdown",
   "metadata": {},
   "source": [
    "### Network building using tflearn"
   ]
  },
  {
   "cell_type": "code",
   "execution_count": 53,
   "metadata": {
    "collapsed": true
   },
   "outputs": [],
   "source": [
    "size_of_each_vector = X_train_padded_seqs.shape[1]\n",
    "vocab_size = len(vocab)\n",
    "no_of_unique_y_labels = len(unique_y_labels)"
   ]
  },
  {
   "cell_type": "code",
   "execution_count": 54,
   "metadata": {
    "collapsed": false
   },
   "outputs": [
    {
     "name": "stdout",
     "output_type": "stream",
     "text": [
      "size_of_each_vector: 20\n",
      "vocab_size: 7596\n",
      "no_of_unique_y_labels: 10\n"
     ]
    }
   ],
   "source": [
    "print('size_of_each_vector:', size_of_each_vector)\n",
    "print('vocab_size:', vocab_size)\n",
    "print('no_of_unique_y_labels:', no_of_unique_y_labels)"
   ]
  },
  {
   "cell_type": "code",
   "execution_count": 55,
   "metadata": {
    "collapsed": false
   },
   "outputs": [
    {
     "name": "stdout",
     "output_type": "stream",
     "text": [
      "WARNING:tensorflow:From C:\\Users\\SHAURYA_HP\\Anaconda2\\envs\\tensorflow-gpu\\lib\\site-packages\\tflearn\\summaries.py:46 in get_summary.: scalar_summary (from tensorflow.python.ops.logging_ops) is deprecated and will be removed after 2016-11-30.\n",
      "Instructions for updating:\n",
      "Please switch to tf.summary.scalar. Note that tf.summary.scalar uses the node name instead of the tag. This means that TensorFlow will automatically de-duplicate summary names based on the scope they are created in. Also, passing a tensor or list of tags to a scalar summary op is no longer supported.\n",
      "WARNING:tensorflow:From C:\\Users\\SHAURYA_HP\\Anaconda2\\envs\\tensorflow-gpu\\lib\\site-packages\\tflearn\\summaries.py:46 in get_summary.: scalar_summary (from tensorflow.python.ops.logging_ops) is deprecated and will be removed after 2016-11-30.\n",
      "Instructions for updating:\n",
      "Please switch to tf.summary.scalar. Note that tf.summary.scalar uses the node name instead of the tag. This means that TensorFlow will automatically de-duplicate summary names based on the scope they are created in. Also, passing a tensor or list of tags to a scalar summary op is no longer supported.\n",
      "WARNING:tensorflow:From C:\\Users\\SHAURYA_HP\\Anaconda2\\envs\\tensorflow-gpu\\lib\\site-packages\\tflearn\\helpers\\trainer.py:766 in create_summaries.: merge_summary (from tensorflow.python.ops.logging_ops) is deprecated and will be removed after 2016-11-30.\n",
      "Instructions for updating:\n",
      "Please switch to tf.summary.merge.\n",
      "WARNING:tensorflow:VARIABLES collection name is deprecated, please use GLOBAL_VARIABLES instead; VARIABLES will be removed after 2017-03-02.\n",
      "WARNING:tensorflow:From C:\\Users\\SHAURYA_HP\\Anaconda2\\envs\\tensorflow-gpu\\lib\\site-packages\\tflearn\\helpers\\trainer.py:130 in __init__.: initialize_all_variables (from tensorflow.python.ops.variables) is deprecated and will be removed after 2017-03-02.\n",
      "Instructions for updating:\n",
      "Use `tf.global_variables_initializer` instead.\n"
     ]
    }
   ],
   "source": [
    "#sgd = tflearn.SGD(learning_rate=1e-4, lr_decay=0.96, decay_step=1000)\n",
    "\n",
    "net = tflearn.input_data([None, size_of_each_vector]) # The first element is the \"batch size\" which we set to \"None\"\n",
    "net = tflearn.embedding(net, input_dim=vocab_size, output_dim=128) # input_dim: vocabulary size\n",
    "net = tflearn.lstm(net, 128, dropout=0.6) # Set the dropout to 0.6\n",
    "net = tflearn.fully_connected(net, no_of_unique_y_labels, activation='softmax') # relu or softmax\n",
    "net = tflearn.regression(net, \n",
    "                         optimizer='adam',  # adam or ada or adagrad # sgd\n",
    "                         learning_rate=1e-4,\n",
    "                         loss='categorical_crossentropy')\n",
    "model = tflearn.DNN(net, tensorboard_verbose=0)"
   ]
  },
  {
   "cell_type": "code",
   "execution_count": 56,
   "metadata": {
    "collapsed": false
   },
   "outputs": [
    {
     "name": "stdout",
     "output_type": "stream",
     "text": [
      "Training Step: 5400  | total loss: \u001b[1m\u001b[32m1.12844\u001b[0m\u001b[0m\n",
      "| Adam | epoch: 040 | loss: 1.12844 - acc: 0.6059 | val_loss: 1.63124 - val_acc: 0.3959 -- iter: 13407/13407\n",
      "Training Step: 5400  | total loss: \u001b[1m\u001b[32m1.12844\u001b[0m\u001b[0m\n",
      "| Adam | epoch: 040 | loss: 1.12844 - acc: 0.6059 | val_loss: 1.63124 - val_acc: 0.3959 -- iter: 13407/13407\n",
      "--\n"
     ]
    }
   ],
   "source": [
    "model.fit(X_train_padded_seqs, y_train,  validation_set=.2, n_epoch=40,show_metric=True, batch_size=100)"
   ]
  },
  {
   "cell_type": "code",
   "execution_count": 57,
   "metadata": {
    "collapsed": true
   },
   "outputs": [],
   "source": [
    "y_pred=model.predict(X_test_padded_seqs)"
   ]
  },
  {
   "cell_type": "code",
   "execution_count": 58,
   "metadata": {
    "collapsed": true
   },
   "outputs": [],
   "source": [
    "from sklearn import metrics"
   ]
  },
  {
   "cell_type": "code",
   "execution_count": 59,
   "metadata": {
    "collapsed": true
   },
   "outputs": [],
   "source": [
    "pred_classes=np.argmax(y_pred,axis=1)\n",
    "true_classes=np.argmax(y_test,axis=1)"
   ]
  },
  {
   "cell_type": "code",
   "execution_count": 60,
   "metadata": {
    "collapsed": false
   },
   "outputs": [
    {
     "name": "stdout",
     "output_type": "stream",
     "text": [
      "\n",
      "RNN Classifier's Accuracy: 0.41492\n",
      "\n"
     ]
    }
   ],
   "source": [
    "print('\\nRNN Classifier\\'s Accuracy: %0.5f\\n' % metrics.accuracy_score(true_classes, pred_classes))"
   ]
  },
  {
   "cell_type": "markdown",
   "metadata": {},
   "source": [
    "## show some predicted samples"
   ]
  },
  {
   "cell_type": "code",
   "execution_count": 61,
   "metadata": {
    "collapsed": false
   },
   "outputs": [
    {
     "name": "stdout",
     "output_type": "stream",
     "text": [
      "Amy's Jigsaw Scrapbook Wireless Puzzle\n",
      "pred_class: Good\n",
      "true_class: Good\n",
      "\n",
      "DuckTales Remastered PlayStation 3 Platformer\n",
      "pred_class: Okay\n",
      "true_class: Good\n",
      "\n",
      "NBA Live 08 PlayStation 3 Sports\n",
      "pred_class: Okay\n",
      "true_class: Okay\n",
      "\n",
      "The Walking Dead 400 Days PC Adventure Episodic\n",
      "pred_class: Great\n",
      "true_class: Great\n",
      "\n",
      "Action Blox iPhone Action\n",
      "pred_class: Good\n",
      "true_class: Okay\n",
      "\n",
      "Kane  Lynch Dead Men Xbox 360 Action\n",
      "pred_class: Good\n",
      "true_class: Good\n",
      "\n",
      "Life is Strange  Episode 4 Dark Room Xbox One Adventure\n",
      "pred_class: Great\n",
      "true_class: Okay\n",
      "\n",
      "Genma Onimusha Xbox Action Adventure\n",
      "pred_class: Good\n",
      "true_class: Great\n",
      "\n",
      "Klonoa 2 Dream Champ Tournament Game Boy Advance Platformer\n",
      "pred_class: Great\n",
      "true_class: Great\n",
      "\n",
      "The Walking Dead A Telltale Game Series  Season Two PlayStation Vita Adventure\n",
      "pred_class: Great\n",
      "true_class: Great\n",
      "\n",
      "Dead Star PlayStation 4 Strategy\n",
      "pred_class: Great\n",
      "true_class: Good\n",
      "\n",
      "Gods vs Humans Wii Strategy\n",
      "pred_class: Bad\n",
      "true_class: Bad\n",
      "\n",
      "Worms Revolution PlayStation 3 Strategy\n",
      "pred_class: Great\n",
      "true_class: Great\n",
      "\n",
      "I of the Dragon PC Action RPG\n",
      "pred_class: Good\n",
      "true_class: Bad\n",
      "\n",
      "Family Guy Air Griffin Wireless Action\n",
      "pred_class: Bad\n",
      "true_class: Bad\n",
      "\n",
      "Tetris iPod Puzzle\n",
      "pred_class: Okay\n",
      "true_class: Good\n",
      "\n",
      "The Simpsons Wrestling PlayStation Action\n",
      "pred_class: Good\n",
      "true_class: Unbearable\n",
      "\n",
      "Godzilla PlayStation 4 Action\n",
      "pred_class: Mediocre\n",
      "true_class: Bad\n",
      "\n",
      "New World Order PC Shooter\n",
      "pred_class: Good\n",
      "true_class: Bad\n",
      "\n",
      "Blacklight Retribution PC Shooter editors_choice\n",
      "pred_class: Amazing\n",
      "true_class: Great\n",
      "\n",
      "Sakura Wars Hanagumi Taisen Columns 2 Dreamcast Puzzle\n",
      "pred_class: Okay\n",
      "true_class: Amazing\n",
      "\n"
     ]
    }
   ],
   "source": [
    "ids_of_titles = range(0,21) # range(X_test.shape[0]) \n",
    "\n",
    "for i in ids_of_titles:\n",
    "    pred_class = np.argmax(model.predict([X_test_padded_seqs[i]]))\n",
    "    true_class = np.argmax(y_test[i])\n",
    "    \n",
    "    print(X_test.values[i])\n",
    "    print('pred_class:', le.inverse_transform(pred_class))\n",
    "    print('true_class:', le.inverse_transform(true_class))\n",
    "    print('')"
   ]
  },
  {
   "cell_type": "code",
   "execution_count": null,
   "metadata": {
    "collapsed": true
   },
   "outputs": [],
   "source": []
  }
 ],
 "metadata": {
  "anaconda-cloud": {},
  "kernelspec": {
   "display_name": "Python 3",
   "language": "python",
   "name": "python3"
  },
  "language_info": {
   "codemirror_mode": {
    "name": "ipython",
    "version": 3
   },
   "file_extension": ".py",
   "mimetype": "text/x-python",
   "name": "python",
   "nbconvert_exporter": "python",
   "pygments_lexer": "ipython3",
   "version": "3.5.2"
  }
 },
 "nbformat": 4,
 "nbformat_minor": 2
}
